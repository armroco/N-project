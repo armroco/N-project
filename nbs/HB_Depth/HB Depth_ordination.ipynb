{
 "cells": [
  {
   "cell_type": "code",
   "execution_count": 1,
   "metadata": {
    "collapsed": true
   },
   "outputs": [],
   "source": [
    "%load_ext rpy2.ipython"
   ]
  },
  {
   "cell_type": "code",
   "execution_count": 2,
   "metadata": {
    "collapsed": false
   },
   "outputs": [
    {
     "name": "stderr",
     "output_type": "stream",
     "text": [
      "/opt/anaconda/lib/python2.7/site-packages/rpy2/robjects/functions.py:106: UserWarning: \n",
      "Attaching package: ‘dplyr’\n",
      "\n",
      "\n",
      "  res = super(Function, self).__call__(*new_args, **new_kwargs)\n",
      "/opt/anaconda/lib/python2.7/site-packages/rpy2/robjects/functions.py:106: UserWarning: The following objects are masked from ‘package:stats’:\n",
      "\n",
      "    filter, lag\n",
      "\n",
      "\n",
      "  res = super(Function, self).__call__(*new_args, **new_kwargs)\n",
      "/opt/anaconda/lib/python2.7/site-packages/rpy2/robjects/functions.py:106: UserWarning: The following objects are masked from ‘package:base’:\n",
      "\n",
      "    intersect, setdiff, setequal, union\n",
      "\n",
      "\n",
      "  res = super(Function, self).__call__(*new_args, **new_kwargs)\n",
      "/opt/anaconda/lib/python2.7/site-packages/rpy2/robjects/functions.py:106: UserWarning: Loading required package: permute\n",
      "\n",
      "  res = super(Function, self).__call__(*new_args, **new_kwargs)\n",
      "/opt/anaconda/lib/python2.7/site-packages/rpy2/robjects/functions.py:106: UserWarning: Loading required package: lattice\n",
      "\n",
      "  res = super(Function, self).__call__(*new_args, **new_kwargs)\n",
      "/opt/anaconda/lib/python2.7/site-packages/rpy2/robjects/functions.py:106: UserWarning: This is vegan 2.3-0\n",
      "\n",
      "  res = super(Function, self).__call__(*new_args, **new_kwargs)\n"
     ]
    }
   ],
   "source": [
    "%%R\n",
    "library(dplyr); library(tidyr)\n",
    "library(phyloseq)\n",
    "library(ggplot2)\n",
    "library(vegan)\n",
    "library(FField)"
   ]
  },
  {
   "cell_type": "code",
   "execution_count": 3,
   "metadata": {
    "collapsed": true
   },
   "outputs": [],
   "source": [
    "%%R\n",
    "sd = read.csv(\"/home/armanda/N-project/data/HB_Depth/HBD_HANM.csv\", stringsAsFactors = FALSE) %>%\n",
    "    select(Sample.Name, Depth)\n",
    "\n",
    "rownames(sd) = sd$Sample.Name\n",
    "sd = sample_data(sd)"
   ]
  },
  {
   "cell_type": "code",
   "execution_count": 4,
   "metadata": {
    "collapsed": true
   },
   "outputs": [],
   "source": [
    "%%R\n",
    "counts = read.csv(\"/home/armanda/N-project/data/HB_Depth/HBD_HANM.csv\", stringsAsFactors = FALSE) %>%\n",
    "    gather(key, value, -Sample.Name, -Depth) %>%\n",
    "    select(Sample.Name, key, value) %>%\n",
    "    spread(key, value)\n",
    "\n",
    "rownames(counts) = counts$Sample.Name\n",
    "\n",
    "counts$Sample.Name = NULL\n",
    "\n",
    "counts = otu_table(counts, taxa_are_rows = FALSE)"
   ]
  },
  {
   "cell_type": "code",
   "execution_count": 5,
   "metadata": {
    "collapsed": false
   },
   "outputs": [
    {
     "data": {
      "text/plain": [
       "phyloseq-class experiment-level object\n",
       "otu_table()   OTU Table:         [ 11095 taxa and 15 samples ]\n",
       "sample_data() Sample Data:       [ 15 samples by 2 sample variables ]\n"
      ]
     },
     "metadata": {},
     "output_type": "display_data"
    }
   ],
   "source": [
    "%%R\n",
    "ps = phyloseq(sd, counts)\n",
    "ps"
   ]
  },
  {
   "cell_type": "code",
   "execution_count": 9,
   "metadata": {
    "collapsed": false
   },
   "outputs": [
    {
     "data": {
      "text/plain": [
       "Square root transformation\n",
       "Wisconsin double standardization\n",
       "Run 0 stress 0.03009435 \n",
       "Run 1 stress 0.02626523 \n",
       "... New best solution\n",
       "... procrustes: rmse 0.02884867  max resid 0.07284824 \n",
       "Run 2 stress 0.03388075 \n",
       "Run 3 stress 0.03445445 \n",
       "Run 4 stress 0.03327895 \n",
       "Run 5 stress 0.02626512 \n",
       "... New best solution\n",
       "... procrustes: rmse 7.80488e-05  max resid 0.0001433624 \n",
       "*** Solution reached\n"
      ]
     },
     "metadata": {},
     "output_type": "display_data"
    },
    {
     "data": {
      "image/png": "[encoded data removed]"
     },
     "metadata": {},
     "output_type": "display_data"
    }
   ],
   "source": [
    "%%R -h 400 -w 550\n",
    "ord = ordinate(ps, method = \"NMDS\", distance = \"bray\")\n",
    "\n",
    "ord.plot = plot_ordination(ps, ord, justDF = TRUE)\n",
    "ord.plot$Depth = factor(ord.plot$Depth, levels = c(\"O\", \"0_10\", \"10_20\",\"20_30\",\"30_50\"))\n",
    "\n",
    "ord.plot.nmds = ord.plot\n",
    "\n",
    "x.fact <- 100 / max(ord.plot.nmds$NMDS1)\n",
    "y.fact <- 100 / max(ord.plot.nmds$NMDS2)\n",
    "\n",
    "coords = FFieldPtRep(coords = cbind(ord.plot.nmds$NMDS1 * x.fact,\n",
    "                                    ord.plot.nmds$NMDS2 * y.fact), \n",
    "                     rep.fact = 70)\n",
    "\n",
    "ord.plot.nmds$text.x = coords$x / x.fact\n",
    "ord.plot.nmds$text.y = coords$y / y.fact\n",
    "\n",
    "p = ggplot(ord.plot.nmds, aes(x = NMDS1, y = NMDS2, color = Depth))\n",
    "\n",
    "p = p + geom_point(size = 5)\n",
    "\n",
    "p = p + scale_color_manual(values = c(\"red\", \"black\", \"orange\", \"blue\", \"purple\"))\n",
    "\n",
    "#p = p + scale_shape_manual(values = c(6, 15, 1, 18, 10))\n",
    "\n",
    "p = p + scale_size_discrete(range = c(4,8))\n",
    "\n",
    "#p = p + geom_text(color = \"black\", aes(x = text.x, \n",
    "                                       #y = text.y,\n",
    "                                       #label = Sample.Name), size = 4, vjust = 1.5, hjust = 0.5)\n",
    "\n",
    "p = p + theme_bw()\n",
    "p = p + theme(axis.text.x = element_text(angle = 90, vjust = 0.5, hjust = 1, size = 12), \n",
    "              axis.text.y = element_text(size = 12), \n",
    "              axis.title.x = element_text(size = 14), \n",
    "              axis.title.y = element_text(size = 14), \n",
    "              strip.text.x = element_text(size = 14), \n",
    "              strip.text.y = element_text(size = 14),\n",
    "              legend.text = element_text(size = 12), \n",
    "              strip.background = element_blank())\n",
    "\n",
    "p = p + guides(color = guide_legend(override.aes = list(size=5)),\n",
    "               shape = guide_legend(override.aes = list(size = 5)))          \n",
    "\n",
    "p"
   ]
  },
  {
   "cell_type": "code",
   "execution_count": 14,
   "metadata": {
    "collapsed": false
   },
   "outputs": [
    {
     "data": {
      "image/png": "[encoded data removed]"
     },
     "metadata": {},
     "output_type": "display_data"
    }
   ],
   "source": [
    "%%R -h 400 -w 550\n",
    "ord = ordinate(ps, method = \"PCoA\", distance = \"bray\")\n",
    "\n",
    "ord.plot = plot_ordination(ps, ord, justDF = TRUE)\n",
    "\n",
    "ord.plot$Depth = factor(ord.plot$Depth, levels = c(\"O\", \"0_10\", \"10_20\",\"20_30\",\"30_50\"))\n",
    "\n",
    "ord.plot.mds = ord.plot\n",
    "\n",
    "p = ggplot(ord.plot.mds, aes(x = Axis.1, y = Axis.2, color = Depth))\n",
    "\n",
    "p = p + geom_point(size = 5)\n",
    "\n",
    "p = p + scale_size_discrete(range = c(4,8))\n",
    "\n",
    "p = p + scale_color_manual(values = c(\"red\", \"black\", \"orange\", \"blue\", \"purple\"))\n",
    "\n",
    "p = p + scale_shape_manual(values = c(6, 15, 1, 18, 10))\n",
    "\n",
    "#p = p + geom_text(color = \"black\", aes(x = Axis.1, \n",
    "                                       #y = Axis.2,\n",
    "                                       #label = Sample.Name), size = 4, vjust = 1.75, hjust = 0.5)\n",
    "\n",
    "p = p + theme_bw()\n",
    "p = p + theme(axis.text.x = element_text(angle = 90, vjust = 0.5, hjust = 1, size = 12), \n",
    "              axis.text.y = element_text(size = 12), \n",
    "              axis.title.x = element_text(size = 14), \n",
    "              axis.title.y = element_text(size = 14), \n",
    "              strip.text.x = element_text(size = 14), \n",
    "              strip.text.y = element_text(size = 14),\n",
    "              legend.text = element_text(size = 12), \n",
    "              strip.background = element_blank())\n",
    "\n",
    "p = p + guides(color = guide_legend(override.aes = list(size=5)),\n",
    "               shape = guide_legend(override.aes = list(size = 5)))\n",
    "\n",
    "p"
   ]
  },
  {
   "cell_type": "code",
   "execution_count": null,
   "metadata": {
    "collapsed": true
   },
   "outputs": [],
   "source": [
    "%%R\n",
    "bray.dist = distance(ps, method = \"bray\")\n",
    "\n",
    "data = data.frame(sample_data(ps))\n",
    "\n",
    "data$Depth = factor(data$Depth, levels = c(\"D\", \"W\", \"H\", \"F\"))\n",
    "\n",
    "adonis(bray.dist ~ Location, data)"
   ]
  }
 ],
 "metadata": {
  "kernelspec": {
   "display_name": "Python 2",
   "language": "python",
   "name": "python2"
  },
  "language_info": {
   "codemirror_mode": {
    "name": "ipython",
    "version": 2
   },
   "file_extension": ".py",
   "mimetype": "text/x-python",
   "name": "python",
   "nbconvert_exporter": "python",
   "pygments_lexer": "ipython2",
   "version": "2.7.10"
  }
 },
 "nbformat": 4,
 "nbformat_minor": 0
}
