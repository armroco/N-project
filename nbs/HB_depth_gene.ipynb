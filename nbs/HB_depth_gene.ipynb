{
 "cells": [
  {
   "cell_type": "code",
   "execution_count": 2,
   "metadata": {
    "collapsed": true
   },
   "outputs": [],
   "source": [
    "from IPython.display import FileLink"
   ]
  },
  {
   "cell_type": "code",
   "execution_count": 3,
   "metadata": {
    "collapsed": false
   },
   "outputs": [
    {
     "name": "stdout",
     "output_type": "stream",
     "text": [
      "/home/armanda/N-project/nbs\r\n"
     ]
    }
   ],
   "source": [
    "!pwd"
   ]
  },
  {
   "cell_type": "code",
   "execution_count": 4,
   "metadata": {
    "collapsed": false
   },
   "outputs": [
    {
     "name": "stdout",
     "output_type": "stream",
     "text": [
      "SequenceReadDepth,Treatment,Samples,Nap,Nar,NirK,NirS,cNor,qNor,Nos\r",
      "\r\n",
      "11026645,30_50,CAR01,1,84,170,2,5,286,13\r",
      "\r\n",
      "12082199,30_50,CAR02,15,106,205,0,3,305,18\r",
      "\r\n",
      "11603447,30_50,CAR03,5,86,196,0,12,300,12\r",
      "\r\n",
      "10609692,20_30,CAR04,14,104,110,0,7,241,12\r",
      "\r\n",
      "12886439,20_30,CAR05,7,97,191,0,4,317,13\r",
      "\r\n",
      "10885260,20_30,CAR06,13,90,153,0,3,249,11\r",
      "\r\n",
      "12253612,10_20,CAR07,24,121,134,0,22,250,4\r",
      "\r\n",
      "10945590,10_20,CAR08,17,81,112,0,8,243,6\r",
      "\r\n",
      "11425155,10_20,CAR09,13,98,108,3,7,206,7\r",
      "\r\n"
     ]
    }
   ],
   "source": [
    "!head /home/armanda/HB_Depth/HB_Depth_Noxide.csv"
   ]
  },
  {
   "cell_type": "code",
   "execution_count": 5,
   "metadata": {
    "collapsed": true
   },
   "outputs": [],
   "source": [
    "%load_ext rpy2.ipython"
   ]
  },
  {
   "cell_type": "code",
   "execution_count": 6,
   "metadata": {
    "collapsed": false
   },
   "outputs": [
    {
     "name": "stderr",
     "output_type": "stream",
     "text": [
      "/opt/anaconda/lib/python2.7/site-packages/rpy2/robjects/functions.py:106: UserWarning: \n",
      "Attaching package: ‘dplyr’\n",
      "\n",
      "\n",
      "  res = super(Function, self).__call__(*new_args, **new_kwargs)\n",
      "/opt/anaconda/lib/python2.7/site-packages/rpy2/robjects/functions.py:106: UserWarning: The following objects are masked from ‘package:stats’:\n",
      "\n",
      "    filter, lag\n",
      "\n",
      "\n",
      "  res = super(Function, self).__call__(*new_args, **new_kwargs)\n",
      "/opt/anaconda/lib/python2.7/site-packages/rpy2/robjects/functions.py:106: UserWarning: The following objects are masked from ‘package:base’:\n",
      "\n",
      "    intersect, setdiff, setequal, union\n",
      "\n",
      "\n",
      "  res = super(Function, self).__call__(*new_args, **new_kwargs)\n"
     ]
    }
   ],
   "source": [
    "%%R\n",
    "library(dplyr)\n",
    "library(ggplot2)\n",
    "library(tidyr)"
   ]
  },
  {
   "cell_type": "code",
   "execution_count": 10,
   "metadata": {
    "collapsed": false
   },
   "outputs": [
    {
     "data": {
      "text/plain": [
       "  SequenceReadDepth Treatment Samples Gene.ID count relative.count\n",
       "1          11026645     30_50   CAR01     Nap     1     0.09068942\n",
       "2          12082199     30_50   CAR02     Nap    15     1.24149586\n",
       "3          11603447     30_50   CAR03     Nap     5     0.43090644\n",
       "4          10609692     20_30   CAR04     Nap    14     1.31954820\n",
       "5          12886439     20_30   CAR05     Nap     7     0.54320670\n",
       "6          10885260     20_30   CAR06     Nap    13     1.19427556\n"
      ]
     },
     "metadata": {},
     "output_type": "display_data"
    }
   ],
   "source": [
    "%%R\n",
    "df = read.csv(\"/home/armanda/HB_Depth/HB_Depth_Noxide.csv\") %>%\n",
    "    gather(Gene.ID, count, \n",
    "           -SequenceReadDepth,\n",
    "           -Treatment,\n",
    "           -Samples) %>%\n",
    "    mutate(relative.count = count / SequenceReadDepth * 1000000)\n",
    "\n",
    "df$Treatment = factor(df$Treatment, levels = c(\"O\", \"0_10\", \"10_20\",\"20_30\",\"30_50\"))\n",
    "\n",
    "df %>% head"
   ]
  },
  {
   "cell_type": "code",
   "execution_count": 21,
   "metadata": {
    "collapsed": false
   },
   "outputs": [
    {
     "data": {
      "image/png": "[encoded data removed]"
     },
     "metadata": {},
     "output_type": "display_data"
    }
   ],
   "source": [
    "%%R -w 500 -h 350\n",
    "p = ggplot(df, aes(x = Gene.ID, y = relative.count, color = Treatment))\n",
    "\n",
    "p = p + geom_boxplot(aes(group = Gene.ID))\n",
    "\n",
    "p = p + geom_point(size = 3.5, position = position_jitter(w = 0.20, h = 0))\n",
    "\n",
    "p = p + scale_color_manual(values = c(\"red\", \"black\", \"orange\", \"blue\", \"purple\"))\n",
    "\n",
    "p = p + theme_agile()\n",
    "\n",
    "p = p + labs(y = \"Counts per million\", x= \"Gene\")\n",
    "\n",
    "p = p + theme(axis.title = element_text(size = 20))\n",
    "\n",
    "ggsave(\"../figs/HB_Depth_Noxide.svg\", p, h = 5, w = 8)\n",
    "\n",
    "p"
   ]
  },
  {
   "cell_type": "code",
   "execution_count": 22,
   "metadata": {
    "collapsed": false
   },
   "outputs": [
    {
     "data": {
      "image/png": "[encoded data removed]"
     },
     "metadata": {},
     "output_type": "display_data"
    }
   ],
   "source": [
    "%%R -w 300 -h 1050\n",
    "p = ggplot(df, aes(x = Treatment, y = relative.count))\n",
    "\n",
    "p = p + facet_wrap(~Gene.ID, scales = \"free_y\", ncol = 1)\n",
    "\n",
    "p = p + geom_boxplot()\n",
    "\n",
    "p = p + geom_point(size = 3, position = position_jitter(w = 0.15, h = 0))\n",
    "\n",
    "p = p + theme_agile()\n",
    "\n",
    "p"
   ]
  },
  {
   "cell_type": "code",
   "execution_count": 24,
   "metadata": {
    "collapsed": false
   },
   "outputs": [
    {
     "data": {
      "image/png": "[encoded data removed]"
     },
     "metadata": {},
     "output_type": "display_data"
    }
   ],
   "source": [
    "%%R -w 800 -h 650\n",
    "p = ggplot(df, aes(x = Treatment, y = relative.count))\n",
    "\n",
    "p = p + facet_wrap(~Gene.ID, scales = \"free_y\", ncol = 4)\n",
    "\n",
    "p = p + geom_boxplot()\n",
    "\n",
    "p = p + geom_point(size = 3, position = position_jitter(w = 0.15, h = 0))\n",
    "\n",
    "p"
   ]
  },
  {
   "cell_type": "code",
   "execution_count": 27,
   "metadata": {
    "collapsed": false
   },
   "outputs": [
    {
     "name": "stderr",
     "output_type": "stream",
     "text": [
      "/opt/anaconda/lib/python2.7/site-packages/rpy2/robjects/functions.py:106: UserWarning: Loading required package: permute\n",
      "\n",
      "  res = super(Function, self).__call__(*new_args, **new_kwargs)\n",
      "/opt/anaconda/lib/python2.7/site-packages/rpy2/robjects/functions.py:106: UserWarning: Loading required package: lattice\n",
      "\n",
      "  res = super(Function, self).__call__(*new_args, **new_kwargs)\n",
      "/opt/anaconda/lib/python2.7/site-packages/rpy2/robjects/functions.py:106: UserWarning: This is vegan 2.3-0\n",
      "\n",
      "  res = super(Function, self).__call__(*new_args, **new_kwargs)\n"
     ]
    }
   ],
   "source": [
    "%%R\n",
    "library(dplyr); library(tidyr)\n",
    "library(phyloseq)\n",
    "library(ggplot2)\n",
    "library(vegan)\n",
    "library(FField)"
   ]
  },
  {
   "cell_type": "code",
   "execution_count": 28,
   "metadata": {
    "collapsed": false
   },
   "outputs": [
    {
     "name": "stdout",
     "output_type": "stream",
     "text": [
      "SequenceReadDepth,Treatment,Samples,Nap,Nar,NirK,NirS,cNor,qNor,Nos\r",
      "\r\n"
     ]
    }
   ],
   "source": [
    "!head -n1 /home/armanda/HB_Depth/HB_Depth_Noxide.csv"
   ]
  },
  {
   "cell_type": "code",
   "execution_count": 30,
   "metadata": {
    "collapsed": false
   },
   "outputs": [],
   "source": [
    "%%R\n",
    "sd = read.csv(\"/home/armanda/HB_Depth/HB_Depth_Noxide.csv\", stringsAsFactors = FALSE) %>%\n",
    "    select(Treatment, Samples)\n",
    "\n",
    "rownames(sd) = sd$Samples\n",
    "\n",
    "sd = sample_data(sd)"
   ]
  },
  {
   "cell_type": "code",
   "execution_count": 33,
   "metadata": {
    "collapsed": false
   },
   "outputs": [],
   "source": [
    "%%R\n",
    "counts = read.csv(\"/home/armanda/HB_Depth/HB_Depth_Noxide.csv\", stringsAsFactors = FALSE) %>%\n",
    "    select(Nap, Nar, NirK, NirS, cNor, qNor, Nos, Samples, SequenceReadDepth) %>%\n",
    "    gather(key, value, -Samples, -SequenceReadDepth) %>%\n",
    "    mutate(count = value / SequenceReadDepth * 1000000) %>%\n",
    "    select(Samples, key, count) %>%\n",
    "    spread(key, count)\n",
    "\n",
    "rownames(counts) = counts$Samples\n",
    "\n",
    "counts$Samples = NULL\n",
    "\n",
    "counts = otu_table(counts, taxa_are_rows = FALSE)"
   ]
  },
  {
   "cell_type": "code",
   "execution_count": 34,
   "metadata": {
    "collapsed": false
   },
   "outputs": [
    {
     "data": {
      "text/plain": [
       "phyloseq-class experiment-level object\n",
       "otu_table()   OTU Table:         [ 7 taxa and 15 samples ]\n",
       "sample_data() Sample Data:       [ 15 samples by 2 sample variables ]\n"
      ]
     },
     "metadata": {},
     "output_type": "display_data"
    }
   ],
   "source": [
    "%%R\n",
    "ps = phyloseq(sd, counts)\n",
    "ps"
   ]
  },
  {
   "cell_type": "code",
   "execution_count": 47,
   "metadata": {
    "collapsed": false
   },
   "outputs": [
    {
     "data": {
      "text/plain": [
       "Wisconsin double standardization\n",
       "Run 0 stress 0.1060938 \n",
       "Run 1 stress 0.1065524 \n",
       "... procrustes: rmse 0.03831751  max resid 0.1101794 \n",
       "Run 2 stress 0.2291715 \n",
       "Run 3 stress 0.1065523 \n",
       "... procrustes: rmse 0.03834533  max resid 0.1103485 \n",
       "Run 4 stress 0.1065523 \n",
       "... procrustes: rmse 0.03835996  max resid 0.1104394 \n",
       "Run 5 stress 0.2389747 \n",
       "Run 6 stress 0.1513942 \n",
       "Run 7 stress 0.1065524 \n",
       "... procrustes: rmse 0.03832283  max resid 0.1102111 \n",
       "Run 8 stress 0.1061005 \n",
       "... procrustes: rmse 0.001811625  max resid 0.005275477 \n",
       "*** Solution reached\n"
      ]
     },
     "metadata": {},
     "output_type": "display_data"
    },
    {
     "data": {
      "image/png": "[encoded data removed]"
     },
     "metadata": {},
     "output_type": "display_data"
    }
   ],
   "source": [
    "%%R -h 400 -w 550\n",
    "ord = ordinate(ps, method = \"NMDS\", distance = \"bray\")\n",
    "\n",
    "ord.plot = plot_ordination(ps, ord, justDF = TRUE)\n",
    "ord.plot$Treatment = factor(ord.plot$Treatment, levels = c(\"O\", \"0_10\", \"10_20\",\"20_30\",\"30_50\"))\n",
    "\n",
    "ord.plot.nmds = ord.plot\n",
    "\n",
    "x.fact <- 100 / max(ord.plot.nmds$NMDS1)\n",
    "y.fact <- 100 / max(ord.plot.nmds$NMDS2)\n",
    "\n",
    "coords = FFieldPtRep(coords = cbind(ord.plot.nmds$NMDS1 * x.fact,\n",
    "                                    ord.plot.nmds$NMDS2 * y.fact), \n",
    "                     rep.fact = 70)\n",
    "\n",
    "ord.plot.nmds$text.x = coords$x / x.fact\n",
    "ord.plot.nmds$text.y = coords$y / y.fact\n",
    "\n",
    "p = ggplot(ord.plot.nmds, aes(x = NMDS1, y = NMDS2, color = Treatment))\n",
    "\n",
    "p = p + geom_text(color = \"black\", aes(x = text.x, \n",
    "                                       y = text.y,\n",
    "                                       label = Samples), size = 4, vjust = 1.5, hjust = 0.5)\n",
    "\n",
    "p = p + geom_point(size = 5)\n",
    "\n",
    "p = p + scale_color_manual(values = c(\"red\", \"black\", \"orange\", \"blue\", \"purple\"))\n",
    "\n",
    "p = p + scale_size_discrete(range = c(4,8))\n",
    "\n",
    "p = p + theme_bw()\n",
    "p = p + theme(axis.text.x = element_text(angle = 90, vjust = 0.5, hjust = 1, size = 12), \n",
    "              axis.text.y = element_text(size = 12), \n",
    "              axis.title.x = element_text(size = 14), \n",
    "              axis.title.y = element_text(size = 14), \n",
    "              strip.text.x = element_text(size = 14), \n",
    "              strip.text.y = element_text(size = 14),\n",
    "              legend.text = element_text(size = 12), \n",
    "              strip.background = element_blank())\n",
    "\n",
    "p = p + guides(color = guide_legend(override.aes = list(size=5)),\n",
    "               shape = guide_legend(override.aes = list(size = 5)))\n",
    "\n",
    "ggsave(\"../figs/ordination.nmds.pdf\", h = 5.5, w = 7.75)            \n",
    "\n",
    "p"
   ]
  },
  {
   "cell_type": "code",
   "execution_count": 57,
   "metadata": {
    "collapsed": false
   },
   "outputs": [
    {
     "data": {
      "image/png": "[encoded data removed]"
     },
     "metadata": {},
     "output_type": "display_data"
    }
   ],
   "source": [
    "%%R -h 400 -w 550\n",
    "ord = ordinate(ps, method = \"PCoA\", distance = \"bray\")\n",
    "\n",
    "ord.plot = plot_ordination(ps, ord, justDF = TRUE)\n",
    "ord.plot$Treatment = factor(ord.plot$Treatment, levels = c(\"O\", \"0_10\", \"10_20\",\"20_30\",\"30_50\"))\n",
    "\n",
    "ord.plot.mds = ord.plot\n",
    "\n",
    "p = ggplot(ord.plot, aes(x = Axis.1, y = Axis.2, color = Treatment))\n",
    "\n",
    "p = p + scale_color_manual(values = c(\"red\", \"black\", \"orange\", \"blue\", \"purple\"))\n",
    "\n",
    "#p = p + geom_text(color = \"black\", aes(x = Axis.1, y = Axis.2, label = Samples), size = 5, vjust = 1.5, hjust = 0.5)\n",
    "\n",
    "p = p + geom_point(size = 5)\n",
    "\n",
    "p = p + theme_bw()\n",
    "p = p + theme(axis.text.x = element_text(angle = 90, vjust = 0.5, hjust = 1, size = 12), \n",
    "              axis.text.y = element_text(size = 12), \n",
    "              axis.title.x = element_text(size = 14), \n",
    "              axis.title.y = element_text(size = 14), \n",
    "              strip.text.x = element_text(size = 14), \n",
    "              strip.text.y = element_text(size = 14),\n",
    "              legend.text = element_text(size = 12), \n",
    "              strip.background = element_blank())\n",
    "\n",
    "p = p + guides(color = guide_legend(override.aes = list(size=5)),\n",
    "               shape = guide_legend(override.aes = list(size = 5)))\n",
    "\n",
    "p = p + scale_size_discrete(range = c(4,8))\n",
    "\n",
    "p"
   ]
  },
  {
   "cell_type": "code",
   "execution_count": 58,
   "metadata": {
    "collapsed": false,
    "scrolled": true
   },
   "outputs": [
    {
     "data": {
      "text/plain": [
       "\n",
       "Call:\n",
       "adonis(formula = bray.dist ~ Treatment, data = data) \n",
       "\n",
       "Permutation: free\n",
       "Number of permutations: 999\n",
       "\n",
       "Terms added sequentially (first to last)\n",
       "\n",
       "          Df SumsOfSqs  MeanSqs F.Model      R2 Pr(>F)   \n",
       "Treatment  4  0.069117 0.017279  3.0171 0.54687   0.01 **\n",
       "Residuals 10  0.057270 0.005727         0.45313          \n",
       "Total     14  0.126387                  1.00000          \n",
       "---\n",
       "Signif. codes:  0 ‘***’ 0.001 ‘**’ 0.01 ‘*’ 0.05 ‘.’ 0.1 ‘ ’ 1\n"
      ]
     },
     "metadata": {},
     "output_type": "display_data"
    }
   ],
   "source": [
    "%%R\n",
    "bray.dist = distance(ps, method = \"bray\")\n",
    "\n",
    "data = data.frame(sample_data(ps))\n",
    "\n",
    "data$Treatment = factor(ord.plot$Treatment, levels = c(\"O\", \"0_10\", \"10_20\",\"20_30\",\"30_50\"))\n",
    "\n",
    "adonis(bray.dist ~ Treatment, data)"
   ]
  },
  {
   "cell_type": "code",
   "execution_count": null,
   "metadata": {
    "collapsed": false
   },
   "outputs": [],
   "source": [
    "%%R\n",
    "sd = read.csv(\"/home/armanda/HB_Depth/HB_Depth_all2.csv\", stringsAsFactors = FALSE) %>%\n",
    "     select(Treatment, Samples)\n",
    "\n",
    "rownames(sd) = sd$Samples\n",
    "\n",
    "sd = sample_data(sd)"
   ]
  },
  {
   "cell_type": "code",
   "execution_count": 72,
   "metadata": {
    "collapsed": false
   },
   "outputs": [
    {
     "name": "stdout",
     "output_type": "stream",
     "text": [
      "\n",
      "Error in eval(expr, envir, enclos) : \n",
      "  object 'Sequence.Read.Depth' not found\n"
     ]
    },
    {
     "name": "stderr",
     "output_type": "stream",
     "text": [
      "/opt/anaconda/lib/python2.7/site-packages/rpy2/robjects/functions.py:106: UserWarning: Error in eval(expr, envir, enclos) : \n",
      "  object 'Sequence.Read.Depth' not found\n",
      "\n",
      "  res = super(Function, self).__call__(*new_args, **new_kwargs)\n"
     ]
    }
   ],
   "source": [
    "%%R\n",
    "counts = read.csv(\"/home/armanda/HB_Depth/HB_Depth_all2.csv\", stringsAsFactors = FALSE) %>%\n",
    "    select(Treat,emtc(1:11097)) %>%\n",
    "    gather(key, value, -Samples, -SequenceReadDepth) %>%\n",
    "    mutate(count = value / Sequence.Read.Depth * 1000000) %>%\n",
    "    select(Samples, key, count) %>%\n",
    "    spread(key, count)\n",
    "\n",
    "rownames(counts) = counts$Samples\n",
    "\n",
    "counts$Samples = NULL\n",
    "\n",
    "counts = otu_table(counts, taxa_are_rows = FALSE)"
   ]
  },
  {
   "cell_type": "code",
   "execution_count": null,
   "metadata": {
    "collapsed": true
   },
   "outputs": [],
   "source": []
  },
  {
   "cell_type": "code",
   "execution_count": 13,
   "metadata": {
    "collapsed": true
   },
   "outputs": [],
   "source": [
    "%%R\n",
    "theme_agile <- function(base_size = 11, base_family = \"Arial\", plot_type = \"formal\", lines_lwd = 0.25, ticks_type = \"outer\", plot_grid = TRUE, axis_font = base_family, title_size = base_size*1.2, legend_size = base_size,\n",
    "\t\t\t\t\t\t\t\t\t\t\t\tbg_col = ifelse(plot_type == \"formal\", \"white\", \"#F0F0F0\"), title_font = base_family , base_col  = \"black\", axis_lines = TRUE,\n",
    "\t\t\t\t\t\t\t\t\t\t\t\tminor_grid = ifelse(plot_grid, TRUE, FALSE), vert_grid = ifelse(plot_grid, TRUE, FALSE), ticks_length = ifelse(ticks_type == \"outer\", 0.2, -0.2), horz_grid = ifelse(plot_grid, TRUE, FALSE), alpha_leg = 0.1, bord_size = 0,\n",
    "\t\t\t\t\t\t\t\t\t\t\t\tlegend_bg = ifelse(plot_type == \"formal\", \"white\", \"#F0F0F0\"), strip_bg = ifelse(plot_type == \"formal\", \"white\", \"khaki1\"), grid_thick = 1){\n",
    "\ttheme_bw()+\n",
    "\t\tggplot2::theme(\n",
    "\t\t\tplot.margin = grid::unit(c(1, 1, .5, .7), \"cm\"),\n",
    "\t\t\ttext = ggplot2::element_text(family = base_family, size = base_size),\n",
    "\t\t\taxis.line =  element_line(size = ifelse(axis_lines, grid::unit(lines_lwd, \"mm\"),0), color = \"black\"),\n",
    "\t\t\taxis.ticks.length = grid::unit(ticks_length, \"cm\"),\n",
    "\t\t\taxis.ticks.margin = grid::unit(ifelse(ticks_length > 0,0.25, -ticks_length + 0.25) , \"cm\"),\n",
    "\t\t\taxis.text.x = ggplot2::element_text(size = base_size, colour = base_col , family = axis_font),\n",
    "\t\t\taxis.text.y = ggplot2::element_text(size = base_size, colour = base_col , family = axis_font),\n",
    "\t\t\taxis.title.y = ggplot2::element_text(size =  base_size, colour = base_col , vjust = 1.5, family = axis_font),\n",
    "\t\t\taxis.title.x = ggplot2::element_text(size = base_size,colour = base_col ,vjust = -.5, family = axis_font),\n",
    "\t\t\tpanel.background = ggplot2::element_rect(fill = bg_col),\n",
    "\t\t\tplot.background = ggplot2::element_rect(fill = bg_col),\n",
    "\t\t\tpanel.border = ggplot2::element_rect(colour = \"black\", fill=NA, size = bord_size),\n",
    "\t\t\tpanel.grid.major.x = ggplot2::element_line(colour = ifelse(vert_grid, \"grey60\",bg_col), size = ifelse(vert_grid,0.45 * grid_thick, 0)),\n",
    "\t\t\tpanel.grid.minor.x = ggplot2::element_line(colour = ifelse(vert_grid, ifelse(minor_grid, \"grey80\",bg_col),bg_col), size = ifelse(vert_grid,0.35* grid_thick, 0)),\n",
    "\t\t\tpanel.grid.major.y = ggplot2::element_line(colour = ifelse(horz_grid, \"grey60\",bg_col), size = ifelse(horz_grid,0.45* grid_thick, 0)),\n",
    "\t\t\tpanel.grid.minor.y = ggplot2::element_line(colour = ifelse(horz_grid, ifelse(minor_grid, \"grey80\",bg_col),bg_col), size = ifelse(horz_grid,0.35* grid_thick, 0)),\n",
    "\t\t\tpanel.grid.major = ggplot2::element_line(colour = \"grey40\", size=0.45),\n",
    "\t\t\tplot.title = ggplot2::element_text(face=\"bold\",hjust = ifelse(plot_type == \"formal\", 0.5, 0) ,vjust = 2, colour = base_col , size = title_size, family = title_font),\n",
    "\t\t\tlegend.background = ggplot2::element_rect(fill = scales::alpha(legend_bg, alpha_leg)), legend.key = ggplot2::element_blank(),\n",
    "\t\t\tlegend.text = ggplot2::element_text(size = legend_size),\n",
    "\t\t\tlegend.title = element_blank(),\n",
    "\t\t\tstrip.background =  ggplot2::element_rect(colour = strip_bg, fill = strip_bg),\n",
    "\t\t\tstrip.text.x = ggplot2::element_text(size = base_size + 1),\n",
    "\t\t\tstrip.text.y = ggplot2::element_text(size = base_size + 1)\n",
    "\t\t)\n",
    "}"
   ]
  },
  {
   "cell_type": "code",
   "execution_count": null,
   "metadata": {
    "collapsed": true
   },
   "outputs": [],
   "source": []
  }
 ],
 "metadata": {
  "kernelspec": {
   "display_name": "Python 2",
   "language": "python",
   "name": "python2"
  },
  "language_info": {
   "codemirror_mode": {
    "name": "ipython",
    "version": 2
   },
   "file_extension": ".py",
   "mimetype": "text/x-python",
   "name": "python",
   "nbconvert_exporter": "python",
   "pygments_lexer": "ipython2",
   "version": "2.7.10"
  }
 },
 "nbformat": 4,
 "nbformat_minor": 0
}
