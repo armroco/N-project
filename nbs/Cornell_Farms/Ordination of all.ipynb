{
 "cells": [
  {
   "cell_type": "code",
   "execution_count": 1,
   "metadata": {
    "collapsed": true
   },
   "outputs": [],
   "source": [
    "%load_ext rpy2.ipython"
   ]
  },
  {
   "cell_type": "code",
   "execution_count": 2,
   "metadata": {
    "collapsed": false
   },
   "outputs": [
    {
     "name": "stderr",
     "output_type": "stream",
     "text": [
      "/opt/anaconda/lib/python2.7/site-packages/rpy2/robjects/functions.py:106: UserWarning: \n",
      "Attaching package: ‘dplyr’\n",
      "\n",
      "\n",
      "  res = super(Function, self).__call__(*new_args, **new_kwargs)\n",
      "/opt/anaconda/lib/python2.7/site-packages/rpy2/robjects/functions.py:106: UserWarning: The following objects are masked from ‘package:stats’:\n",
      "\n",
      "    filter, lag\n",
      "\n",
      "\n",
      "  res = super(Function, self).__call__(*new_args, **new_kwargs)\n",
      "/opt/anaconda/lib/python2.7/site-packages/rpy2/robjects/functions.py:106: UserWarning: The following objects are masked from ‘package:base’:\n",
      "\n",
      "    intersect, setdiff, setequal, union\n",
      "\n",
      "\n",
      "  res = super(Function, self).__call__(*new_args, **new_kwargs)\n",
      "/opt/anaconda/lib/python2.7/site-packages/rpy2/robjects/functions.py:106: UserWarning: Loading required package: permute\n",
      "\n",
      "  res = super(Function, self).__call__(*new_args, **new_kwargs)\n",
      "/opt/anaconda/lib/python2.7/site-packages/rpy2/robjects/functions.py:106: UserWarning: Loading required package: lattice\n",
      "\n",
      "  res = super(Function, self).__call__(*new_args, **new_kwargs)\n",
      "/opt/anaconda/lib/python2.7/site-packages/rpy2/robjects/functions.py:106: UserWarning: This is vegan 2.3-0\n",
      "\n",
      "  res = super(Function, self).__call__(*new_args, **new_kwargs)\n"
     ]
    }
   ],
   "source": [
    "%%R\n",
    "library(dplyr); library(tidyr)\n",
    "library(phyloseq)\n",
    "library(ggplot2)\n",
    "library(vegan)\n",
    "library(FField)"
   ]
  },
  {
   "cell_type": "code",
   "execution_count": 5,
   "metadata": {
    "collapsed": false
   },
   "outputs": [],
   "source": [
    "%%R\n",
    "sd = read.csv(\"/home/armanda/N-project/data/Cornell_Farms/CF_HANM.csv\", stringsAsFactors = FALSE) %>%\n",
    "    select(Sample.Name, Location)\n",
    "\n",
    "rownames(sd) = sd$Sample.Name\n",
    "sd = sample_data(sd)"
   ]
  },
  {
   "cell_type": "code",
   "execution_count": 6,
   "metadata": {
    "collapsed": true
   },
   "outputs": [],
   "source": [
    "%%R\n",
    "counts = read.csv(\"/home/armanda/N-project/data/Cornell_Farms/CF_HANM.csv\", stringsAsFactors = FALSE) %>%\n",
    "    gather(key, value, -Sample.Name, -Location) %>%\n",
    "    select(Sample.Name, key, value) %>%\n",
    "    spread(key, value)\n",
    "\n",
    "rownames(counts) = counts$Sample.Name\n",
    "\n",
    "counts$Sample.Name = NULL\n",
    "\n",
    "counts = otu_table(counts, taxa_are_rows = FALSE)"
   ]
  },
  {
   "cell_type": "code",
   "execution_count": 7,
   "metadata": {
    "collapsed": false
   },
   "outputs": [
    {
     "data": {
      "text/plain": [
       "phyloseq-class experiment-level object\n",
       "otu_table()   OTU Table:         [ 12057 taxa and 12 samples ]\n",
       "sample_data() Sample Data:       [ 12 samples by 2 sample variables ]\n"
      ]
     },
     "metadata": {},
     "output_type": "display_data"
    }
   ],
   "source": [
    "%%R\n",
    "ps = phyloseq(sd, counts)\n",
    "ps"
   ]
  },
  {
   "cell_type": "code",
   "execution_count": 13,
   "metadata": {
    "collapsed": false
   },
   "outputs": [
    {
     "data": {
      "text/plain": [
       "Square root transformation\n",
       "Wisconsin double standardization\n",
       "Run 0 stress 0.04561791 \n",
       "Run 1 stress 0.04561799 \n",
       "... procrustes: rmse 6.22176e-05  max resid 0.0001541548 \n",
       "*** Solution reached\n"
      ]
     },
     "metadata": {},
     "output_type": "display_data"
    },
    {
     "data": {
      "image/png": "[encoded data removed]"
     },
     "metadata": {},
     "output_type": "display_data"
    }
   ],
   "source": [
    "%%R -h 400 -w 550\n",
    "ord = ordinate(ps, method = \"NMDS\", distance = \"bray\")\n",
    "\n",
    "ord.plot = plot_ordination(ps, ord, justDF = TRUE)\n",
    "ord.plot$Location = factor(ord.plot$Location, levels = c(\"W\", \"D\", \"H\", \"F\"))\n",
    "\n",
    "ord.plot.nmds = ord.plot\n",
    "\n",
    "x.fact <- 100 / max(ord.plot.nmds$NMDS1)\n",
    "y.fact <- 100 / max(ord.plot.nmds$NMDS2)\n",
    "\n",
    "coords = FFieldPtRep(coords = cbind(ord.plot.nmds$NMDS1 * x.fact,\n",
    "                                    ord.plot.nmds$NMDS2 * y.fact), \n",
    "                     rep.fact = 70)\n",
    "\n",
    "ord.plot.nmds$text.x = coords$x / x.fact\n",
    "ord.plot.nmds$text.y = coords$y / y.fact\n",
    "\n",
    "p = ggplot(ord.plot.nmds, aes(x = NMDS1, y = NMDS2, shape = Location))\n",
    "\n",
    "p = p + geom_point(size = 5)\n",
    "\n",
    "#p = p + scale_color_manual(values = c(\"red\", \"black\", \"orange\", \"blue\"))\n",
    "\n",
    "p = p + scale_shape_manual(values = c(6, 15, 1, 18))\n",
    "\n",
    "p = p + scale_size_discrete(range = c(4,8))\n",
    "\n",
    "#p = p + geom_text(color = \"black\", aes(x = text.x, \n",
    "                                       #y = text.y,\n",
    "                                       #label = Sample.Name), size = 4, vjust = 1.5, hjust = 0.5)\n",
    "\n",
    "p = p + theme_bw()\n",
    "p = p + theme(axis.text.x = element_text(angle = 90, vjust = 0.5, hjust = 1, size = 12), \n",
    "              axis.text.y = element_text(size = 12), \n",
    "              axis.title.x = element_text(size = 14), \n",
    "              axis.title.y = element_text(size = 14), \n",
    "              strip.text.x = element_text(size = 14), \n",
    "              strip.text.y = element_text(size = 14),\n",
    "              legend.text = element_text(size = 12), \n",
    "              strip.background = element_blank())\n",
    "\n",
    "p = p + guides(color = guide_legend(override.aes = list(size=5)),\n",
    "               shape = guide_legend(override.aes = list(size = 5)))          \n",
    "\n",
    "p"
   ]
  },
  {
   "cell_type": "code",
   "execution_count": 17,
   "metadata": {
    "collapsed": false
   },
   "outputs": [
    {
     "data": {
      "image/png": "[encoded data removed]"
     },
     "metadata": {},
     "output_type": "display_data"
    }
   ],
   "source": [
    "%%R -h 400 -w 550\n",
    "ord = ordinate(ps, method = \"PCoA\", distance = \"bray\")\n",
    "\n",
    "ord.plot = plot_ordination(ps, ord, justDF = TRUE)\n",
    "ord.plot$Location = factor(ord.plot$Location, levels = c(\"W\", \"D\", \"H\", \"F\"))\n",
    "\n",
    "ord.plot.mds = ord.plot\n",
    "\n",
    "p = ggplot(ord.plot.mds, aes(x = Axis.1, y = Axis.2, shape = Location))\n",
    "\n",
    "p = p + geom_point(size = 5)\n",
    "\n",
    "p = p + scale_size_discrete(range = c(4,8))\n",
    "\n",
    "p = p + scale_color_manual(values = c(\"red\", \"black\", \"orange\", \"blue\"))\n",
    "\n",
    "#p = p + scale_shape_manual(values = c(6, 15, 1, 18))\n",
    "\n",
    "#p = p + geom_text(color = \"black\", aes(x = Axis.1, \n",
    "                                       #y = Axis.2,\n",
    "                                       #label = Sample.Name), size = 4, vjust = 1.75, hjust = 0.5)\n",
    "\n",
    "p = p + theme_bw()\n",
    "p = p + theme(axis.text.x = element_text(angle = 90, vjust = 0.5, hjust = 1, size = 12), \n",
    "              axis.text.y = element_text(size = 12), \n",
    "              axis.title.x = element_text(size = 14), \n",
    "              axis.title.y = element_text(size = 14), \n",
    "              strip.text.x = element_text(size = 14), \n",
    "              strip.text.y = element_text(size = 14),\n",
    "              legend.text = element_text(size = 12), \n",
    "              strip.background = element_blank())\n",
    "\n",
    "p = p + guides(color = guide_legend(override.aes = list(size=5)),\n",
    "               shape = guide_legend(override.aes = list(size = 5)))\n",
    "\n",
    "p"
   ]
  },
  {
   "cell_type": "code",
   "execution_count": 18,
   "metadata": {
    "collapsed": false
   },
   "outputs": [
    {
     "data": {
      "text/plain": [
       "\n",
       "Call:\n",
       "adonis(formula = bray.dist ~ Location, data = data) \n",
       "\n",
       "Permutation: free\n",
       "Number of permutations: 999\n",
       "\n",
       "Terms added sequentially (first to last)\n",
       "\n",
       "          Df SumsOfSqs   MeanSqs F.Model      R2 Pr(>F)  \n",
       "Location   3  0.010862 0.0036206  1.9454 0.42181  0.065 .\n",
       "Residuals  8  0.014889 0.0018611         0.57819         \n",
       "Total     11  0.025751                   1.00000         \n",
       "---\n",
       "Signif. codes:  0 ‘***’ 0.001 ‘**’ 0.01 ‘*’ 0.05 ‘.’ 0.1 ‘ ’ 1\n"
      ]
     },
     "metadata": {},
     "output_type": "display_data"
    }
   ],
   "source": [
    "%%R\n",
    "bray.dist = distance(ps, method = \"bray\")\n",
    "\n",
    "data = data.frame(sample_data(ps))\n",
    "\n",
    "data$Location = factor(data$Location, levels = c(\"D\", \"W\", \"H\", \"F\"))\n",
    "\n",
    "adonis(bray.dist ~ Location, data)"
   ]
  },
  {
   "cell_type": "code",
   "execution_count": null,
   "metadata": {
    "collapsed": true
   },
   "outputs": [],
   "source": []
  }
 ],
 "metadata": {
  "kernelspec": {
   "display_name": "Python 2",
   "language": "python",
   "name": "python2"
  },
  "language_info": {
   "codemirror_mode": {
    "name": "ipython",
    "version": 2
   },
   "file_extension": ".py",
   "mimetype": "text/x-python",
   "name": "python",
   "nbconvert_exporter": "python",
   "pygments_lexer": "ipython2",
   "version": "2.7.10"
  }
 },
 "nbformat": 4,
 "nbformat_minor": 0
}
