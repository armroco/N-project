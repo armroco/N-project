{
 "cells": [
  {
   "cell_type": "code",
   "execution_count": 1,
   "metadata": {
    "collapsed": true
   },
   "outputs": [],
   "source": [
    "%load_ext rpy2.ipython"
   ]
  },
  {
   "cell_type": "code",
   "execution_count": 148,
   "metadata": {
    "collapsed": true
   },
   "outputs": [],
   "source": [
    "from IPython.display import FileLink"
   ]
  },
  {
   "cell_type": "code",
   "execution_count": 139,
   "metadata": {
    "collapsed": false
   },
   "outputs": [],
   "source": [
    "%%R\n",
    "library(dplyr); library(tidyr)\n",
    "library(phyloseq)\n",
    "library(ggplot2)\n",
    "library(vegan)\n",
    "library(FField)"
   ]
  },
  {
   "cell_type": "code",
   "execution_count": 20,
   "metadata": {
    "collapsed": false
   },
   "outputs": [
    {
     "name": "stdout",
     "output_type": "stream",
     "text": [
      "Sample Name,Sequence Read Depth,Treatment,Elevation,Depth,Nap,Nar,NirK,NirS,cNor,qNor,Nos\r",
      "\r\n"
     ]
    }
   ],
   "source": [
    "!head -n1 ../data/HB_Noxide.csv"
   ]
  },
  {
   "cell_type": "code",
   "execution_count": 42,
   "metadata": {
    "collapsed": false
   },
   "outputs": [],
   "source": [
    "%%R\n",
    "sd = read.csv(\"../data/HB_Noxide.csv\", stringsAsFactors = FALSE) %>%\n",
    "    select(Sample.Name, Treatment, Elevation, Depth)\n",
    "\n",
    "rownames(sd) = sd$Sample.Name\n",
    "\n",
    "sd = sample_data(sd)"
   ]
  },
  {
   "cell_type": "code",
   "execution_count": 99,
   "metadata": {
    "collapsed": false
   },
   "outputs": [],
   "source": [
    "%%R\n",
    "counts = read.csv(\"../data/HB_Noxide.csv\", stringsAsFactors = FALSE) %>%\n",
    "    select(Nap, Nar, NirK, NirS, cNor, qNor, Nos, Sample.Name, Sequence.Read.Depth) %>%\n",
    "    gather(key, value, -Sample.Name, -Sequence.Read.Depth) %>%\n",
    "    mutate(count = value / Sequence.Read.Depth * 1000000) %>%\n",
    "    select(Sample.Name, key, count) %>%\n",
    "    spread(key, count)\n",
    "\n",
    "rownames(counts) = counts$Sample.Name\n",
    "\n",
    "counts$Sample.Name = NULL\n",
    "\n",
    "counts = otu_table(counts, taxa_are_rows = FALSE)"
   ]
  },
  {
   "cell_type": "code",
   "execution_count": 100,
   "metadata": {
    "collapsed": false
   },
   "outputs": [
    {
     "data": {
      "text/plain": [
       "phyloseq-class experiment-level object\n",
       "otu_table()   OTU Table:         [ 7 taxa and 18 samples ]\n",
       "sample_data() Sample Data:       [ 18 samples by 4 sample variables ]\n"
      ]
     },
     "metadata": {},
     "output_type": "display_data"
    }
   ],
   "source": [
    "%%R\n",
    "ps = phyloseq(sd, counts)\n",
    "ps"
   ]
  },
  {
   "cell_type": "code",
   "execution_count": 154,
   "metadata": {
    "collapsed": false,
    "scrolled": false
   },
   "outputs": [
    {
     "data": {
      "text/plain": [
       "Wisconsin double standardization\n",
       "Run 0 stress 0.1183359 \n",
       "Run 1 stress 0.1710055 \n",
       "Run 2 stress 0.1781071 \n",
       "Run 3 stress 0.118336 \n",
       "... procrustes: rmse 0.0001652978  max resid 0.0005388139 \n",
       "*** Solution reached\n"
      ]
     },
     "metadata": {},
     "output_type": "display_data"
    },
    {
     "data": {
      "image/png": "[encoded data removed]"
     },
     "metadata": {},
     "output_type": "display_data"
    }
   ],
   "source": [
    "%%R -h 400 -w 550\n",
    "ord = ordinate(ps, method = \"NMDS\", distance = \"bray\")\n",
    "\n",
    "ord.plot = plot_ordination(ps, ord, justDF = TRUE)\n",
    "ord.plot$Elevation = factor(ord.plot$Elevation, levels = c(\"Low\", \"High\", \"Spruce Fir\"))\n",
    "\n",
    "ord.plot.nmds = ord.plot\n",
    "\n",
    "x.fact <- 100 / max(ord.plot.nmds$NMDS1)\n",
    "y.fact <- 100 / max(ord.plot.nmds$NMDS2)\n",
    "\n",
    "coords = FFieldPtRep(coords = cbind(ord.plot.nmds$NMDS1 * x.fact,\n",
    "                                    ord.plot.nmds$NMDS2 * y.fact), \n",
    "                     rep.fact = 70)\n",
    "\n",
    "ord.plot.nmds$text.x = coords$x / x.fact\n",
    "ord.plot.nmds$text.y = coords$y / y.fact\n",
    "\n",
    "p = ggplot(ord.plot.nmds, aes(x = NMDS1, y = NMDS2, color = Treatment, shape = Depth, size = Elevation))\n",
    "\n",
    "p = p + geom_point()\n",
    "\n",
    "p = p + scale_size_discrete(range = c(4,8))\n",
    "\n",
    "p = p + geom_text(color = \"black\", aes(x = text.x, \n",
    "                                       y = text.y,\n",
    "                                       label = Sample.Name), size = 4, vjust = 1.5, hjust = 0.5)\n",
    "\n",
    "p = p + theme_bw()\n",
    "p = p + theme(axis.text.x = element_text(angle = 90, vjust = 0.5, hjust = 1, size = 12), \n",
    "              axis.text.y = element_text(size = 12), \n",
    "              axis.title.x = element_text(size = 14), \n",
    "              axis.title.y = element_text(size = 14), \n",
    "              strip.text.x = element_text(size = 14), \n",
    "              strip.text.y = element_text(size = 14),\n",
    "              legend.text = element_text(size = 12), \n",
    "              strip.background = element_blank())\n",
    "\n",
    "p = p + guides(color = guide_legend(override.aes = list(size=5)),\n",
    "               shape = guide_legend(override.aes = list(size = 5)))\n",
    "\n",
    "ggsave(\"../figs/ordination.nmds.pdf\", h = 5.5, w = 7.75)            \n",
    "\n",
    "p"
   ]
  },
  {
   "cell_type": "code",
   "execution_count": 150,
   "metadata": {
    "collapsed": false
   },
   "outputs": [
    {
     "data": {
      "text/html": [
       "<a href='../figs/ordination.nmds.pdf' target='_blank'>../figs/ordination.nmds.pdf</a><br>"
      ],
      "text/plain": [
       "/home/armanda/N-project/figs/ordination.nmds.pdf"
      ]
     },
     "execution_count": 150,
     "metadata": {},
     "output_type": "execute_result"
    }
   ],
   "source": [
    "FileLink(\"../figs/ordination.nmds.pdf\")"
   ]
  },
  {
   "cell_type": "code",
   "execution_count": 141,
   "metadata": {
    "collapsed": false
   },
   "outputs": [
    {
     "data": {
      "text/plain": [
       "             NMDS1       NMDS2 Sample.Name Treatment  Elevation   Depth\n",
       "CJ01  -0.019232933  0.09191827        CJ01        Ca       High Mineral\n",
       "CJ010  0.025481080 -0.16459354       CJ010      None       High Mineral\n",
       "CJ011  0.054000312  0.01468284       CJ011      None       High    Oa/A\n",
       "CJ012 -0.011230813 -0.03846371       CJ012      None       High   Oi/Oe\n",
       "CJ013  0.211084581 -0.19759188       CJ013      None        Low Mineral\n",
       "CJ014  0.207891408  0.01265526       CJ014      None        Low    Oa/A\n",
       "CJ015  0.195424853  0.03470939       CJ015      None        Low   Oi/Oe\n",
       "CJ016 -0.075466777 -0.10813294       CJ016      None Spruce Fir Mineral\n",
       "CJ017 -0.211201973  0.19348217       CJ017      None Spruce Fir    Oa/A\n",
       "CJ018 -0.150042392  0.20464889       CJ018      None Spruce Fir   Oi/Oe\n",
       "CJ02  -0.071964671  0.02695148        CJ02        Ca       High    Oa/A\n",
       "CJ03   0.128205322  0.09853476        CJ03        Ca       High   Oi/Oe\n",
       "CJ04   0.131854124 -0.22232830        CJ04        Ca        Low Mineral\n",
       "CJ05   0.087444798  0.05580526        CJ05        Ca        Low    Oa/A\n",
       "CJ06   0.285326916  0.01641405        CJ06        Ca        Low   Oi/Oe\n",
       "CJ07  -0.354947538 -0.22470331        CJ07        Ca Spruce Fir Mineral\n",
       "CJ08  -0.424192202 -0.07571510        CJ08        Ca Spruce Fir    Oa/A\n",
       "CJ09  -0.008434094  0.28172642        CJ09        Ca Spruce Fir   Oi/Oe\n",
       "            text.x      text.y\n",
       "CJ01  -0.019232933  0.09191827\n",
       "CJ010  0.025481080 -0.16459354\n",
       "CJ011  0.054000312  0.01468284\n",
       "CJ012 -0.011230813 -0.03846371\n",
       "CJ013  0.211084581 -0.19759188\n",
       "CJ014  0.209032715  0.01152835\n",
       "CJ015  0.194283545  0.03583629\n",
       "CJ016 -0.075466777 -0.10813294\n",
       "CJ017 -0.211201973  0.19348217\n",
       "CJ018 -0.150042392  0.20464889\n",
       "CJ02  -0.071964671  0.02695148\n",
       "CJ03   0.128205322  0.09853476\n",
       "CJ04   0.131854124 -0.22232830\n",
       "CJ05   0.087444798  0.05580526\n",
       "CJ06   0.285326916  0.01641405\n",
       "CJ07  -0.354947538 -0.22470331\n",
       "CJ08  -0.424192202 -0.07571510\n",
       "CJ09  -0.008434094  0.28172642\n"
      ]
     },
     "metadata": {},
     "output_type": "display_data"
    }
   ],
   "source": [
    "%%R\n",
    "x.fact <- 100 / max(ord.plot.nmds$NMDS1)\n",
    "y.fact <- 100 / max(ord.plot.nmds$NMDS2)\n",
    "\n",
    "coords = FFieldPtRep(coords = cbind(ord.plot.nmds$NMDS1 * x.fact,\n",
    "                                    ord.plot.nmds$NMDS2 * y.fact), \n",
    "                     rep.fact = 70)\n",
    "\n",
    "ord.plot.nmds$text.x = coords$x / x.fact\n",
    "ord.plot.nmds$text.y = coords$y / y.fact\n",
    "\n",
    "ord.plot.nmds"
   ]
  },
  {
   "cell_type": "code",
   "execution_count": 103,
   "metadata": {
    "collapsed": false,
    "scrolled": false
   },
   "outputs": [
    {
     "data": {
      "image/png": "[encoded data removed]"
     },
     "metadata": {},
     "output_type": "display_data"
    }
   ],
   "source": [
    "%%R -h 400 -w 550\n",
    "ord = ordinate(ps, method = \"PCoA\", distance = \"bray\")\n",
    "\n",
    "ord.plot = plot_ordination(ps, ord, justDF = TRUE)\n",
    "ord.plot$Elevation = factor(ord.plot$Elevation, levels = c(\"Low\", \"High\", \"Spruce Fir\"))\n",
    "\n",
    "ord.plot.mds = ord.plot\n",
    "\n",
    "p = ggplot(ord.plot, aes(x = Axis.1, y = Axis.2, color = Treatment, shape = Depth, size = Elevation))\n",
    "\n",
    "p = p + geom_point()\n",
    "\n",
    "p = p + scale_size_discrete(range = c(4,8))\n",
    "\n",
    "p"
   ]
  },
  {
   "cell_type": "code",
   "execution_count": 105,
   "metadata": {
    "collapsed": false,
    "scrolled": false
   },
   "outputs": [
    {
     "data": {
      "text/plain": [
       "\n",
       "Call:\n",
       "adonis(formula = bray.dist ~ Elevation, data = data) \n",
       "\n",
       "Permutation: free\n",
       "Number of permutations: 999\n",
       "\n",
       "Terms added sequentially (first to last)\n",
       "\n",
       "          Df SumsOfSqs  MeanSqs F.Model      R2 Pr(>F)    \n",
       "Elevation  2   0.48983 0.244914  13.165 0.63707  0.001 ***\n",
       "Residuals 15   0.27905 0.018604         0.36293           \n",
       "Total     17   0.76888                  1.00000           \n",
       "---\n",
       "Signif. codes:  0 ‘***’ 0.001 ‘**’ 0.01 ‘*’ 0.05 ‘.’ 0.1 ‘ ’ 1\n"
      ]
     },
     "metadata": {},
     "output_type": "display_data"
    }
   ],
   "source": [
    "%%R\n",
    "bray.dist = distance(ps, method = \"bray\")\n",
    "\n",
    "data = data.frame(sample_data(ps))\n",
    "\n",
    "data$Elevation = factor(data$Elevation, levels = c(\"Low\", \"High\", \"Spruce Fir\"))\n",
    "\n",
    "adonis(bray.dist ~ Elevation, data)"
   ]
  }
 ],
 "metadata": {
  "kernelspec": {
   "display_name": "Python 2",
   "language": "python",
   "name": "python2"
  },
  "language_info": {
   "codemirror_mode": {
    "name": "ipython",
    "version": 2
   },
   "file_extension": ".py",
   "mimetype": "text/x-python",
   "name": "python",
   "nbconvert_exporter": "python",
   "pygments_lexer": "ipython2",
   "version": "2.7.10"
  }
 },
 "nbformat": 4,
 "nbformat_minor": 0
}
