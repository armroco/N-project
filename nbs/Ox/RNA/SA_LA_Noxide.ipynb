{
 "cells": [
  {
   "cell_type": "code",
   "execution_count": 1,
   "metadata": {
    "collapsed": true
   },
   "outputs": [],
   "source": [
    "from IPython.display import FileLink"
   ]
  },
  {
   "cell_type": "code",
   "execution_count": 2,
   "metadata": {
    "collapsed": true
   },
   "outputs": [],
   "source": [
    "%load_ext rpy2.ipython"
   ]
  },
  {
   "cell_type": "code",
   "execution_count": 3,
   "metadata": {
    "collapsed": false
   },
   "outputs": [
    {
     "name": "stderr",
     "output_type": "stream",
     "text": [
      "/opt/anaconda/lib/python2.7/site-packages/rpy2/robjects/functions.py:106: UserWarning: \n",
      "Attaching package: ‘dplyr’\n",
      "\n",
      "\n",
      "  res = super(Function, self).__call__(*new_args, **new_kwargs)\n",
      "/opt/anaconda/lib/python2.7/site-packages/rpy2/robjects/functions.py:106: UserWarning: The following objects are masked from ‘package:stats’:\n",
      "\n",
      "    filter, lag\n",
      "\n",
      "\n",
      "  res = super(Function, self).__call__(*new_args, **new_kwargs)\n",
      "/opt/anaconda/lib/python2.7/site-packages/rpy2/robjects/functions.py:106: UserWarning: The following objects are masked from ‘package:base’:\n",
      "\n",
      "    intersect, setdiff, setequal, union\n",
      "\n",
      "\n",
      "  res = super(Function, self).__call__(*new_args, **new_kwargs)\n"
     ]
    }
   ],
   "source": [
    "%%R\n",
    "library(dplyr)\n",
    "library(ggplot2)\n",
    "library(tidyr)"
   ]
  },
  {
   "cell_type": "code",
   "execution_count": 5,
   "metadata": {
    "collapsed": false
   },
   "outputs": [
    {
     "data": {
      "text/plain": [
       "  Sequence.Read.Depth Time Gene.ID count relative.count\n",
       "1            12610348   15     Nap    95       7.533496\n",
       "2            12397447   60     Nap    18       1.451912\n",
       "3            10994126   60     Nap    38       3.456391\n",
       "4            12371288  120     Nap    24       1.939976\n",
       "5            10846231  120     Nap    39       3.595719\n",
       "6            12610348   15     Nar   742      58.840565\n"
      ]
     },
     "metadata": {},
     "output_type": "display_data"
    }
   ],
   "source": [
    "%%R\n",
    "df = read.csv(\"/home/armanda/Ox/RNA/SA_Noxide.csv\") %>%\n",
    "    gather(Gene.ID, count, \n",
    "           -Time, \n",
    "           -Sequence.Read.Depth) %>%\n",
    "    mutate(relative.count = count / Sequence.Read.Depth * 1000000)\n",
    "\n",
    "df$Time = factor(df$Time, levels = c(\"15\", \"60\", \"120\"))\n",
    "\n",
    "df %>% head"
   ]
  },
  {
   "cell_type": "code",
   "execution_count": 8,
   "metadata": {
    "collapsed": false
   },
   "outputs": [
    {
     "data": {
      "image/png": "[encoded data removed]"
     },
     "metadata": {},
     "output_type": "display_data"
    }
   ],
   "source": [
    "%%R -w 300 -h 1050\n",
    "p = ggplot(df, aes(x = Time, y = relative.count))\n",
    "\n",
    "p = p + facet_wrap(~Gene.ID, scales = \"free_y\", ncol = 1)\n",
    "\n",
    "p = p + geom_boxplot()\n",
    "\n",
    "p = p + geom_point(size = 3, position = position_jitter(w = 0.15, h = 0))\n",
    "\n",
    "p = p + theme_agile()\n",
    "\n",
    "p"
   ]
  },
  {
   "cell_type": "code",
   "execution_count": 7,
   "metadata": {
    "collapsed": true
   },
   "outputs": [],
   "source": [
    "%%R\n",
    "theme_agile <- function(base_size = 11, base_family = \"Arial\", plot_type = \"formal\", lines_lwd = 0.25, ticks_type = \"outer\", plot_grid = TRUE, axis_font = base_family, title_size = base_size*1.2, legend_size = base_size,\n",
    "\t\t\t\t\t\t\t\t\t\t\t\tbg_col = ifelse(plot_type == \"formal\", \"white\", \"#F0F0F0\"), title_font = base_family , base_col  = \"black\", axis_lines = TRUE,\n",
    "\t\t\t\t\t\t\t\t\t\t\t\tminor_grid = ifelse(plot_grid, TRUE, FALSE), vert_grid = ifelse(plot_grid, TRUE, FALSE), ticks_length = ifelse(ticks_type == \"outer\", 0.2, -0.2), horz_grid = ifelse(plot_grid, TRUE, FALSE), alpha_leg = 0.1, bord_size = 0,\n",
    "\t\t\t\t\t\t\t\t\t\t\t\tlegend_bg = ifelse(plot_type == \"formal\", \"white\", \"#F0F0F0\"), strip_bg = ifelse(plot_type == \"formal\", \"white\", \"khaki1\"), grid_thick = 1){\n",
    "\ttheme_bw()+\n",
    "\t\tggplot2::theme(\n",
    "\t\t\tplot.margin = grid::unit(c(1, 1, .5, .7), \"cm\"),\n",
    "\t\t\ttext = ggplot2::element_text(family = base_family, size = base_size),\n",
    "\t\t\taxis.line =  element_line(size = ifelse(axis_lines, grid::unit(lines_lwd, \"mm\"),0), color = \"black\"),\n",
    "\t\t\taxis.ticks.length = grid::unit(ticks_length, \"cm\"),\n",
    "\t\t\taxis.ticks.margin = grid::unit(ifelse(ticks_length > 0,0.25, -ticks_length + 0.25) , \"cm\"),\n",
    "\t\t\taxis.text.x = ggplot2::element_text(size = base_size, colour = base_col , family = axis_font),\n",
    "\t\t\taxis.text.y = ggplot2::element_text(size = base_size, colour = base_col , family = axis_font),\n",
    "\t\t\taxis.title.y = ggplot2::element_text(size =  base_size, colour = base_col , vjust = 1.5, family = axis_font),\n",
    "\t\t\taxis.title.x = ggplot2::element_text(size = base_size,colour = base_col ,vjust = -.5, family = axis_font),\n",
    "\t\t\tpanel.background = ggplot2::element_rect(fill = bg_col),\n",
    "\t\t\tplot.background = ggplot2::element_rect(fill = bg_col),\n",
    "\t\t\tpanel.border = ggplot2::element_rect(colour = \"black\", fill=NA, size = bord_size),\n",
    "\t\t\tpanel.grid.major.x = ggplot2::element_line(colour = ifelse(vert_grid, \"grey60\",bg_col), size = ifelse(vert_grid,0.45 * grid_thick, 0)),\n",
    "\t\t\tpanel.grid.minor.x = ggplot2::element_line(colour = ifelse(vert_grid, ifelse(minor_grid, \"grey80\",bg_col),bg_col), size = ifelse(vert_grid,0.35* grid_thick, 0)),\n",
    "\t\t\tpanel.grid.major.y = ggplot2::element_line(colour = ifelse(horz_grid, \"grey60\",bg_col), size = ifelse(horz_grid,0.45* grid_thick, 0)),\n",
    "\t\t\tpanel.grid.minor.y = ggplot2::element_line(colour = ifelse(horz_grid, ifelse(minor_grid, \"grey80\",bg_col),bg_col), size = ifelse(horz_grid,0.35* grid_thick, 0)),\n",
    "\t\t\tpanel.grid.major = ggplot2::element_line(colour = \"grey40\", size=0.45),\n",
    "\t\t\tplot.title = ggplot2::element_text(face=\"bold\",hjust = ifelse(plot_type == \"formal\", 0.5, 0) ,vjust = 2, colour = base_col , size = title_size, family = title_font),\n",
    "\t\t\tlegend.background = ggplot2::element_rect(fill = scales::alpha(legend_bg, alpha_leg)), legend.key = ggplot2::element_blank(),\n",
    "\t\t\tlegend.text = ggplot2::element_text(size = legend_size),\n",
    "\t\t\tlegend.title = element_blank(),\n",
    "\t\t\tstrip.background =  ggplot2::element_rect(colour = strip_bg, fill = strip_bg),\n",
    "\t\t\tstrip.text.x = ggplot2::element_text(size = base_size + 1),\n",
    "\t\t\tstrip.text.y = ggplot2::element_text(size = base_size + 1)\n",
    "\t\t)\n",
    "}"
   ]
  },
  {
   "cell_type": "code",
   "execution_count": 9,
   "metadata": {
    "collapsed": false
   },
   "outputs": [
    {
     "data": {
      "text/plain": [
       "  Sequence.Read.Depth Time Gene.ID count relative.count\n",
       "1            12333156   15     Nap   123       9.973116\n",
       "2            12343976   60     Nap   214      17.336391\n",
       "3            12019655   60     Nap   124      10.316436\n",
       "4             8953136  120     Nap   143      15.972057\n",
       "5            11606719  120     Nap   160      13.785119\n",
       "6            12333156   15     Nar  1902     154.218434\n"
      ]
     },
     "metadata": {},
     "output_type": "display_data"
    }
   ],
   "source": [
    "%%R\n",
    "df = read.csv(\"/home/armanda/Ox/RNA/LA_Noxide.csv\") %>%\n",
    "    gather(Gene.ID, count, \n",
    "           -Time, \n",
    "           -Sequence.Read.Depth) %>%\n",
    "    mutate(relative.count = count / Sequence.Read.Depth * 1000000)\n",
    "\n",
    "df$Time = factor(df$Time, levels = c(\"15\", \"60\", \"120\"))\n",
    "\n",
    "df %>% head"
   ]
  },
  {
   "cell_type": "code",
   "execution_count": 10,
   "metadata": {
    "collapsed": false
   },
   "outputs": [
    {
     "data": {
      "image/png": "[encoded data removed]"
     },
     "metadata": {},
     "output_type": "display_data"
    }
   ],
   "source": [
    "%%R -w 300 -h 1050\n",
    "p = ggplot(df, aes(x = Time, y = relative.count))\n",
    "\n",
    "p = p + facet_wrap(~Gene.ID, scales = \"free_y\", ncol = 1)\n",
    "\n",
    "p = p + geom_boxplot()\n",
    "\n",
    "p = p + geom_point(size = 3, position = position_jitter(w = 0.15, h = 0))\n",
    "\n",
    "p = p + theme_agile()\n",
    "\n",
    "p"
   ]
  },
  {
   "cell_type": "code",
   "execution_count": null,
   "metadata": {
    "collapsed": true
   },
   "outputs": [],
   "source": []
  }
 ],
 "metadata": {
  "kernelspec": {
   "display_name": "Python 2",
   "language": "python",
   "name": "python2"
  },
  "language_info": {
   "codemirror_mode": {
    "name": "ipython",
    "version": 2
   },
   "file_extension": ".py",
   "mimetype": "text/x-python",
   "name": "python",
   "nbconvert_exporter": "python",
   "pygments_lexer": "ipython2",
   "version": "2.7.10"
  }
 },
 "nbformat": 4,
 "nbformat_minor": 0
}
