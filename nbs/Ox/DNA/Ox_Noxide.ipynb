{
 "cells": [
  {
   "cell_type": "code",
   "execution_count": 1,
   "metadata": {
    "collapsed": true
   },
   "outputs": [],
   "source": [
    "from IPython.display import FileLink"
   ]
  },
  {
   "cell_type": "code",
   "execution_count": 7,
   "metadata": {
    "collapsed": false
   },
   "outputs": [
    {
     "name": "stdout",
     "output_type": "stream",
     "text": [
      "Sequence Read Depth,Treatment,Sample Name,Nap,Nar,NirK,NirS,cNor,qNor,Nos\r",
      "\r\n",
      "19422668,LA,LA1,497,2526,805,60,113,1012,484\r",
      "\r\n",
      "18492827,LA,LA2,347,2397,694,47,85,829,419\r",
      "\r\n",
      "20021554,LA,LA3,354,2953,799,45,105,862,408\r",
      "\r\n",
      "10248314,SA,SA1,197,1294,422,26,46,529,198\r",
      "\r\n",
      "16415878,SA,SA2,291,2210,714,40,72,789,320\r",
      "\r\n",
      "18131468,SA,SA3,261,2503,700,35,73,685,275\r",
      "\r\n",
      "17333115,O,O1,352,1630,765,51,86,866,434\r",
      "\r\n",
      "18246156,O,O2,409,1833,888,30,86,1112,487\r",
      "\r\n",
      "18303938,O,O3,335,2022,773,44,84,976,347\r",
      "\r\n"
     ]
    }
   ],
   "source": [
    "!head /home/armanda/Ox/Ox_DNA.csv"
   ]
  },
  {
   "cell_type": "code",
   "execution_count": 2,
   "metadata": {
    "collapsed": false
   },
   "outputs": [],
   "source": [
    "%load_ext rpy2.ipython"
   ]
  },
  {
   "cell_type": "code",
   "execution_count": 9,
   "metadata": {
    "collapsed": false
   },
   "outputs": [
    {
     "name": "stderr",
     "output_type": "stream",
     "text": [
      "/opt/anaconda/lib/python2.7/site-packages/rpy2/robjects/functions.py:106: UserWarning: \n",
      "Attaching package: ‘dplyr’\n",
      "\n",
      "\n",
      "  res = super(Function, self).__call__(*new_args, **new_kwargs)\n",
      "/opt/anaconda/lib/python2.7/site-packages/rpy2/robjects/functions.py:106: UserWarning: The following objects are masked from ‘package:stats’:\n",
      "\n",
      "    filter, lag\n",
      "\n",
      "\n",
      "  res = super(Function, self).__call__(*new_args, **new_kwargs)\n",
      "/opt/anaconda/lib/python2.7/site-packages/rpy2/robjects/functions.py:106: UserWarning: The following objects are masked from ‘package:base’:\n",
      "\n",
      "    intersect, setdiff, setequal, union\n",
      "\n",
      "\n",
      "  res = super(Function, self).__call__(*new_args, **new_kwargs)\n",
      "/opt/anaconda/lib/python2.7/site-packages/rpy2/robjects/functions.py:106: UserWarning: Need help? Try the ggplot2 mailing list: http://groups.google.com/group/ggplot2.\n",
      "\n",
      "  res = super(Function, self).__call__(*new_args, **new_kwargs)\n"
     ]
    }
   ],
   "source": [
    "%%R\n",
    "library(dplyr)\n",
    "library(ggplot2)\n",
    "library(tidyr)"
   ]
  },
  {
   "cell_type": "code",
   "execution_count": 27,
   "metadata": {
    "collapsed": false
   },
   "outputs": [],
   "source": [
    "%%R\n",
    "df = read.csv(\"../Ox/Ox_DNA.csv\")"
   ]
  },
  {
   "cell_type": "code",
   "execution_count": 28,
   "metadata": {
    "collapsed": false
   },
   "outputs": [
    {
     "data": {
      "text/plain": [
       "  Sequence.Read.Depth Treatment Sample.Name Nap  Nar NirK NirS cNor qNor Nos\n",
       "1            19422668        LA         LA1 497 2526  805   60  113 1012 484\n",
       "2            18492827        LA         LA2 347 2397  694   47   85  829 419\n",
       "3            20021554        LA         LA3 354 2953  799   45  105  862 408\n",
       "4            10248314        SA         SA1 197 1294  422   26   46  529 198\n",
       "5            16415878        SA         SA2 291 2210  714   40   72  789 320\n",
       "6            18131468        SA         SA3 261 2503  700   35   73  685 275\n"
      ]
     },
     "metadata": {},
     "output_type": "display_data"
    }
   ],
   "source": [
    "%%R\n",
    "df %>% head"
   ]
  },
  {
   "cell_type": "code",
   "execution_count": 29,
   "metadata": {
    "collapsed": false
   },
   "outputs": [
    {
     "data": {
      "text/plain": [
       "  Sequence.Read.Depth Treatment Sample.Name Gene.ID count relative.count\n",
       "1            19422668        LA         LA1     Nap   497       25.58866\n",
       "2            18492827        LA         LA2     Nap   347       18.76403\n",
       "3            20021554        LA         LA3     Nap   354       17.68095\n",
       "4            10248314        SA         SA1     Nap   197       19.22267\n",
       "5            16415878        SA         SA2     Nap   291       17.72674\n",
       "6            18131468        SA         SA3     Nap   261       14.39486\n"
      ]
     },
     "metadata": {},
     "output_type": "display_data"
    }
   ],
   "source": [
    "%%R\n",
    "df = read.csv(\"../Ox/Ox_DNA.csv\") %>%\n",
    "    gather(Gene.ID, count, \n",
    "           -Sample.Name, \n",
    "           -Sequence.Read.Depth,\n",
    "           -Treatment) %>%\n",
    "    mutate(relative.count = count / Sequence.Read.Depth * 1000000)\n",
    "\n",
    "df$Treatment = factor(df$Treatment, levels = c(\"None\", \"O\", \"SA\", \"LA\"))\n",
    "\n",
    "df %>% head"
   ]
  },
  {
   "cell_type": "code",
   "execution_count": 30,
   "metadata": {
    "collapsed": true
   },
   "outputs": [],
   "source": [
    "%%R\n",
    "theme_agile <- function(base_size = 11, base_family = \"Arial\", plot_type = \"formal\", lines_lwd = 0.25, ticks_type = \"outer\", plot_grid = TRUE, axis_font = base_family, title_size = base_size*1.2, legend_size = base_size,\n",
    "\t\t\t\t\t\t\t\t\t\t\t\tbg_col = ifelse(plot_type == \"formal\", \"white\", \"#F0F0F0\"), title_font = base_family , base_col  = \"black\", axis_lines = TRUE,\n",
    "\t\t\t\t\t\t\t\t\t\t\t\tminor_grid = ifelse(plot_grid, TRUE, FALSE), vert_grid = ifelse(plot_grid, TRUE, FALSE), ticks_length = ifelse(ticks_type == \"outer\", 0.2, -0.2), horz_grid = ifelse(plot_grid, TRUE, FALSE), alpha_leg = 0.1, bord_size = 0,\n",
    "\t\t\t\t\t\t\t\t\t\t\t\tlegend_bg = ifelse(plot_type == \"formal\", \"white\", \"#F0F0F0\"), strip_bg = ifelse(plot_type == \"formal\", \"white\", \"khaki1\"), grid_thick = 1){\n",
    "\ttheme_bw()+\n",
    "\t\tggplot2::theme(\n",
    "\t\t\tplot.margin = grid::unit(c(1, 1, .5, .7), \"cm\"),\n",
    "\t\t\ttext = ggplot2::element_text(family = base_family, size = base_size),\n",
    "\t\t\taxis.line =  element_line(size = ifelse(axis_lines, grid::unit(lines_lwd, \"mm\"),0), color = \"black\"),\n",
    "\t\t\taxis.ticks.length = grid::unit(ticks_length, \"cm\"),\n",
    "\t\t\taxis.ticks.margin = grid::unit(ifelse(ticks_length > 0,0.25, -ticks_length + 0.25) , \"cm\"),\n",
    "\t\t\taxis.text.x = ggplot2::element_text(size = base_size, colour = base_col , family = axis_font),\n",
    "\t\t\taxis.text.y = ggplot2::element_text(size = base_size, colour = base_col , family = axis_font),\n",
    "\t\t\taxis.title.y = ggplot2::element_text(size =  base_size, colour = base_col , vjust = 1.5, family = axis_font),\n",
    "\t\t\taxis.title.x = ggplot2::element_text(size = base_size,colour = base_col ,vjust = -.5, family = axis_font),\n",
    "\t\t\tpanel.background = ggplot2::element_rect(fill = bg_col),\n",
    "\t\t\tplot.background = ggplot2::element_rect(fill = bg_col),\n",
    "\t\t\tpanel.border = ggplot2::element_rect(colour = \"black\", fill=NA, size = bord_size),\n",
    "\t\t\tpanel.grid.major.x = ggplot2::element_line(colour = ifelse(vert_grid, \"grey60\",bg_col), size = ifelse(vert_grid,0.45 * grid_thick, 0)),\n",
    "\t\t\tpanel.grid.minor.x = ggplot2::element_line(colour = ifelse(vert_grid, ifelse(minor_grid, \"grey80\",bg_col),bg_col), size = ifelse(vert_grid,0.35* grid_thick, 0)),\n",
    "\t\t\tpanel.grid.major.y = ggplot2::element_line(colour = ifelse(horz_grid, \"grey60\",bg_col), size = ifelse(horz_grid,0.45* grid_thick, 0)),\n",
    "\t\t\tpanel.grid.minor.y = ggplot2::element_line(colour = ifelse(horz_grid, ifelse(minor_grid, \"grey80\",bg_col),bg_col), size = ifelse(horz_grid,0.35* grid_thick, 0)),\n",
    "\t\t\tpanel.grid.major = ggplot2::element_line(colour = \"grey40\", size=0.45),\n",
    "\t\t\tplot.title = ggplot2::element_text(face=\"bold\",hjust = ifelse(plot_type == \"formal\", 0.5, 0) ,vjust = 2, colour = base_col , size = title_size, family = title_font),\n",
    "\t\t\tlegend.background = ggplot2::element_rect(fill = scales::alpha(legend_bg, alpha_leg)), legend.key = ggplot2::element_blank(),\n",
    "\t\t\tlegend.text = ggplot2::element_text(size = legend_size),\n",
    "\t\t\tlegend.title = element_blank(),\n",
    "\t\t\tstrip.background =  ggplot2::element_rect(colour = strip_bg, fill = strip_bg),\n",
    "\t\t\tstrip.text.x = ggplot2::element_text(size = base_size + 1),\n",
    "\t\t\tstrip.text.y = ggplot2::element_text(size = base_size + 1)\n",
    "\t\t)\n",
    "}"
   ]
  },
  {
   "cell_type": "code",
   "execution_count": 36,
   "metadata": {
    "collapsed": false
   },
   "outputs": [
    {
     "data": {
      "image/png": "[encoded data removed]"
     },
     "metadata": {},
     "output_type": "display_data"
    }
   ],
   "source": [
    "%%R -w 300 -h 1050\n",
    "p = ggplot(df, aes(x = Treatment, y = relative.count))\n",
    "\n",
    "p = p + facet_wrap(~Gene.ID, scales = \"free_y\", ncol = 1)\n",
    "\n",
    "p = p + geom_boxplot()\n",
    "\n",
    "p = p + geom_point(size = 3, position = position_jitter(w = 0.15, h = 0))\n",
    "\n",
    "p = p + theme_agile()\n",
    "\n",
    "ggsave(\"/home/armanda/Ox/Ox_DNA.svg\", p, h = 5, w = 8)\n",
    "\n",
    "p"
   ]
  },
  {
   "cell_type": "code",
   "execution_count": 37,
   "metadata": {
    "collapsed": false
   },
   "outputs": [
    {
     "data": {
      "text/html": [
       "<a href='/home/armanda/Ox/Ox_DNA.svg' target='_blank'>/home/armanda/Ox/Ox_DNA.svg</a><br>"
      ],
      "text/plain": [
       "/home/armanda/Ox/Ox_DNA.svg"
      ]
     },
     "execution_count": 37,
     "metadata": {},
     "output_type": "execute_result"
    }
   ],
   "source": [
    "FileLink(\"/home/armanda/Ox/Ox_DNA.svg\")"
   ]
  },
  {
   "cell_type": "code",
   "execution_count": 3,
   "metadata": {
    "collapsed": false
   },
   "outputs": [
    {
     "name": "stderr",
     "output_type": "stream",
     "text": [
      "/opt/anaconda/lib/python2.7/site-packages/rpy2/robjects/functions.py:106: UserWarning: \n",
      "Attaching package: ‘dplyr’\n",
      "\n",
      "\n",
      "  res = super(Function, self).__call__(*new_args, **new_kwargs)\n",
      "/opt/anaconda/lib/python2.7/site-packages/rpy2/robjects/functions.py:106: UserWarning: The following objects are masked from ‘package:stats’:\n",
      "\n",
      "    filter, lag\n",
      "\n",
      "\n",
      "  res = super(Function, self).__call__(*new_args, **new_kwargs)\n",
      "/opt/anaconda/lib/python2.7/site-packages/rpy2/robjects/functions.py:106: UserWarning: The following objects are masked from ‘package:base’:\n",
      "\n",
      "    intersect, setdiff, setequal, union\n",
      "\n",
      "\n",
      "  res = super(Function, self).__call__(*new_args, **new_kwargs)\n",
      "/opt/anaconda/lib/python2.7/site-packages/rpy2/robjects/functions.py:106: UserWarning: Use suppressPackageStartupMessages to eliminate package startup messages.\n",
      "\n",
      "  res = super(Function, self).__call__(*new_args, **new_kwargs)\n",
      "/opt/anaconda/lib/python2.7/site-packages/rpy2/robjects/functions.py:106: UserWarning: Loading required package: permute\n",
      "\n",
      "  res = super(Function, self).__call__(*new_args, **new_kwargs)\n",
      "/opt/anaconda/lib/python2.7/site-packages/rpy2/robjects/functions.py:106: UserWarning: Loading required package: lattice\n",
      "\n",
      "  res = super(Function, self).__call__(*new_args, **new_kwargs)\n",
      "/opt/anaconda/lib/python2.7/site-packages/rpy2/robjects/functions.py:106: UserWarning: This is vegan 2.3-0\n",
      "\n",
      "  res = super(Function, self).__call__(*new_args, **new_kwargs)\n"
     ]
    }
   ],
   "source": [
    "%%R\n",
    "library(dplyr); library(tidyr)\n",
    "library(phyloseq)\n",
    "library(ggplot2)\n",
    "library(vegan)\n",
    "library(FField)"
   ]
  },
  {
   "cell_type": "code",
   "execution_count": 4,
   "metadata": {
    "collapsed": false
   },
   "outputs": [
    {
     "name": "stdout",
     "output_type": "stream",
     "text": [
      "Sequence Read Depth,Treatment,Sample Name,Nap,Nar,NirK,NirS,cNor,qNor,Nos\r",
      "\r\n"
     ]
    }
   ],
   "source": [
    "!head -n1 /home/armanda/Ox/Ox_DNA.csv"
   ]
  },
  {
   "cell_type": "code",
   "execution_count": 5,
   "metadata": {
    "collapsed": true
   },
   "outputs": [],
   "source": [
    "%%R\n",
    "sd = read.csv(\"/home/armanda/Ox/Ox_DNA.csv\", stringsAsFactors = FALSE) %>%\n",
    "    select(Sample.Name, Treatment)\n",
    "\n",
    "rownames(sd) = sd$Sample.Name\n",
    "\n",
    "sd = sample_data(sd)"
   ]
  },
  {
   "cell_type": "code",
   "execution_count": 6,
   "metadata": {
    "collapsed": true
   },
   "outputs": [],
   "source": [
    "%%R\n",
    "counts = read.csv(\"/home/armanda/Ox/Ox_DNA.csv\", stringsAsFactors = FALSE) %>%\n",
    "    select(Nap, Nar, NirK, NirS, cNor, qNor, Nos, Sample.Name, Sequence.Read.Depth) %>%\n",
    "    gather(key, value, -Sample.Name, -Sequence.Read.Depth) %>%\n",
    "    mutate(count = value / Sequence.Read.Depth * 1000000) %>%\n",
    "    select(Sample.Name, key, count) %>%\n",
    "    spread(key, count)\n",
    "\n",
    "rownames(counts) = counts$Sample.Name\n",
    "\n",
    "counts$Sample.Name = NULL\n",
    "\n",
    "counts = otu_table(counts, taxa_are_rows = FALSE)"
   ]
  },
  {
   "cell_type": "code",
   "execution_count": 7,
   "metadata": {
    "collapsed": false
   },
   "outputs": [
    {
     "data": {
      "text/plain": [
       "phyloseq-class experiment-level object\n",
       "otu_table()   OTU Table:         [ 7 taxa and 12 samples ]\n",
       "sample_data() Sample Data:       [ 12 samples by 2 sample variables ]\n"
      ]
     },
     "metadata": {},
     "output_type": "display_data"
    }
   ],
   "source": [
    "%%R\n",
    "ps = phyloseq(sd, counts)\n",
    "ps"
   ]
  },
  {
   "cell_type": "code",
   "execution_count": 15,
   "metadata": {
    "collapsed": false
   },
   "outputs": [
    {
     "data": {
      "text/plain": [
       "Square root transformation\n",
       "Wisconsin double standardization\n",
       "Run 0 stress 0.0436301 \n",
       "Run 1 stress 0.0436301 \n",
       "... procrustes: rmse 1.474348e-05  max resid 2.754275e-05 \n",
       "*** Solution reached\n"
      ]
     },
     "metadata": {},
     "output_type": "display_data"
    },
    {
     "data": {
      "image/png": "[encoded data removed]"
     },
     "metadata": {},
     "output_type": "display_data"
    }
   ],
   "source": [
    "%%R -h 400 -w 550\n",
    "ord = ordinate(ps, method = \"NMDS\", distance = \"bray\")\n",
    "\n",
    "ord.plot = plot_ordination(ps, ord, justDF = TRUE)\n",
    "ord.plot$Treatment = factor(ord.plot$Treatment, levels = c(\"None\", \"O\", \"SA\", \"LA\"))\n",
    "\n",
    "ord.plot.nmds = ord.plot\n",
    "\n",
    "x.fact <- 100 / max(ord.plot.nmds$NMDS1)\n",
    "y.fact <- 100 / max(ord.plot.nmds$NMDS2)\n",
    "\n",
    "coords = FFieldPtRep(coords = cbind(ord.plot.nmds$NMDS1 * x.fact,\n",
    "                                    ord.plot.nmds$NMDS2 * y.fact), \n",
    "                     rep.fact = 70)\n",
    "\n",
    "ord.plot.nmds$text.x = coords$x / x.fact\n",
    "ord.plot.nmds$text.y = coords$y / y.fact\n",
    "\n",
    "p = ggplot(ord.plot.nmds, aes(x = NMDS1, y = NMDS2, color = Treatment))\n",
    "\n",
    "p = p + scale_color_manual(values = c(\"black\", \"red\", \"orange\", \"blue\"))\n",
    "\n",
    "p = p + geom_point(size = 5)\n",
    "\n",
    "p = p + scale_size_discrete(range = c(4,8))\n",
    "\n",
    "p = p + geom_text(color = \"black\", aes(x = text.x, \n",
    "                                       y = text.y,\n",
    "                                       label = Sample.Name), size = 4, vjust = 1.5, hjust = 0.5)\n",
    "\n",
    "p = p + theme_bw()\n",
    "p = p + theme(axis.text.x = element_text(angle = 90, vjust = 0.5, hjust = 1, size = 12), \n",
    "              axis.text.y = element_text(size = 12), \n",
    "              axis.title.x = element_text(size = 14), \n",
    "              axis.title.y = element_text(size = 14), \n",
    "              strip.text.x = element_text(size = 14), \n",
    "              strip.text.y = element_text(size = 14),\n",
    "              legend.text = element_text(size = 12), \n",
    "              strip.background = element_blank())\n",
    "\n",
    "p = p + guides(color = guide_legend(override.aes = list(size=5)),\n",
    "               shape = guide_legend(override.aes = list(size = 8)))\n",
    "\n",
    "ggsave(\"/home/armanda/Ox/Ox_NMDS.nmds.pdf\", h = 5.5, w = 7.75)            \n",
    "\n",
    "p"
   ]
  },
  {
   "cell_type": "code",
   "execution_count": 13,
   "metadata": {
    "collapsed": false
   },
   "outputs": [
    {
     "data": {
      "image/png": "[encoded data removed]"
     },
     "metadata": {},
     "output_type": "display_data"
    }
   ],
   "source": [
    "%%R -h 400 -w 550\n",
    "ord = ordinate(ps, method = \"PCoA\", distance = \"bray\")\n",
    "\n",
    "ord.plot = plot_ordination(ps, ord, justDF = TRUE)\n",
    "ord.plot$Treatment = factor(ord.plot$Treatment, levels = c(\"None\", \"O\", \"SA\", \"LA\"))\n",
    "\n",
    "ord.plot.mds = ord.plot\n",
    "\n",
    "p = ggplot(ord.plot, aes(x = Axis.1, y = Axis.2, color = Treatment))\n",
    "\n",
    "p = p + scale_color_manual(values = c(\"black\", \"red\", \"orange\", \"blue\"))\n",
    "\n",
    "p = p + geom_point(size = 5)\n",
    "\n",
    "p = p + scale_size_discrete(range = c(4,8))\n",
    "\n",
    "p = p + geom_text(color = \"black\", aes(x = Axis.1, \n",
    "                                       y = Axis.2,\n",
    "                                       label = Sample.Name), size = 4, vjust = 1.5, hjust = 0.5)\n",
    "\n",
    "p = p + theme_bw()\n",
    "p = p + theme(axis.text.x = element_text(angle = 90, vjust = 0.5, hjust = 1, size = 12), \n",
    "              axis.text.y = element_text(size = 12), \n",
    "              axis.title.x = element_text(size = 14), \n",
    "              axis.title.y = element_text(size = 14), \n",
    "              strip.text.x = element_text(size = 14), \n",
    "              strip.text.y = element_text(size = 14),\n",
    "              legend.text = element_text(size = 12), \n",
    "              strip.background = element_blank())\n",
    "\n",
    "p"
   ]
  },
  {
   "cell_type": "code",
   "execution_count": null,
   "metadata": {
    "collapsed": true
   },
   "outputs": [],
   "source": []
  }
 ],
 "metadata": {
  "kernelspec": {
   "display_name": "Python 2",
   "language": "python",
   "name": "python2"
  },
  "language_info": {
   "codemirror_mode": {
    "name": "ipython",
    "version": 2
   },
   "file_extension": ".py",
   "mimetype": "text/x-python",
   "name": "python",
   "nbconvert_exporter": "python",
   "pygments_lexer": "ipython2",
   "version": "2.7.10"
  }
 },
 "nbformat": 4,
 "nbformat_minor": 0
}
