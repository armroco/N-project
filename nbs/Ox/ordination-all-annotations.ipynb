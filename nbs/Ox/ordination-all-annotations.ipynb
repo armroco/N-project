{
 "cells": [
  {
   "cell_type": "code",
   "execution_count": 4,
   "metadata": {
    "collapsed": true
   },
   "outputs": [],
   "source": [
    "%load_ext rpy2.ipython"
   ]
  },
  {
   "cell_type": "code",
   "execution_count": 148,
   "metadata": {
    "collapsed": true
   },
   "outputs": [],
   "source": [
    "from IPython.display import FileLink"
   ]
  },
  {
   "cell_type": "code",
   "execution_count": 7,
   "metadata": {
    "collapsed": false
   },
   "outputs": [],
   "source": [
    "%%R\n",
    "library(dplyr); library(tidyr)\n",
    "library(phyloseq)\n",
    "library(ggplot2)\n",
    "library(vegan)\n",
    "library(FField)"
   ]
  },
  {
   "cell_type": "code",
   "execution_count": 41,
   "metadata": {
    "collapsed": false
   },
   "outputs": [],
   "source": [
    "%%R\n",
    "counts = read.csv(\"../data/Ox/Ox_H.csv\") %>%\n",
    "    t %>% {\n",
    "        l = ncol(.)\n",
    "        colnames(.) = paste(\"gene.\", 1:l, sep=\"\")\n",
    "        .\n",
    "       .\n",
    "    }\n",
    "\n",
    "counts = otu_table(counts, taxa_are_rows = FALSE)"
   ]
  },
  {
   "cell_type": "code",
   "execution_count": 46,
   "metadata": {
    "collapsed": false
   },
   "outputs": [],
   "source": [
    "%%R\n",
    "sd = data.frame(Sample = rownames(counts))\n",
    "\n",
    "rownames(sd) = sd$Sample\n",
    "\n",
    "sd = sample_data(sd)"
   ]
  },
  {
   "cell_type": "code",
   "execution_count": 48,
   "metadata": {
    "collapsed": false
   },
   "outputs": [
    {
     "data": {
      "text/plain": [
       "phyloseq-class experiment-level object\n",
       "otu_table()   OTU Table:         [ 11589 taxa and 12 samples ]\n",
       "sample_data() Sample Data:       [ 12 samples by 1 sample variables ]\n"
      ]
     },
     "metadata": {},
     "output_type": "display_data"
    }
   ],
   "source": [
    "%%R\n",
    "ps = phyloseq(sd, counts)\n",
    "ps"
   ]
  },
  {
   "cell_type": "code",
   "execution_count": 55,
   "metadata": {
    "collapsed": false
   },
   "outputs": [
    {
     "data": {
      "text/plain": [
       "Square root transformation\n",
       "Wisconsin double standardization\n",
       "Run 0 stress 0.05351107 \n",
       "Run 1 stress 0.05294966 \n",
       "... New best solution\n",
       "... procrustes: rmse 0.02761742  max resid 0.06833906 \n",
       "Run 2 stress 0.1550971 \n",
       "Run 3 stress 0.05294882 \n",
       "... New best solution\n",
       "... procrustes: rmse 0.0004521417  max resid 0.0009872579 \n",
       "*** Solution reached\n"
      ]
     },
     "metadata": {},
     "output_type": "display_data"
    },
    {
     "data": {
      "image/png": "[encoded data removed]"
     },
     "metadata": {},
     "output_type": "display_data"
    }
   ],
   "source": [
    "%%R\n",
    "ord = ordinate(ps, method = \"NMDS\", distance = \"bray\")\n",
    "\n",
    "ord.plot = plot_ordination(ps, ord, justDF = TRUE)\n",
    "\n",
    "d = ord.plot\n",
    "\n",
    "d$Sample = rownames(d)\n",
    "\n",
    "p = ggplot(d, aes(x = NMDS1, y = NMDS2, label = Sample))\n",
    "\n",
    "p = p + geom_point(size = 4)\n",
    "\n",
    "p = p + geom_text(hjust = 1, vjust = 1)\n",
    "\n",
    "p"
   ]
  },
  {
   "cell_type": "code",
   "execution_count": 56,
   "metadata": {
    "collapsed": false
   },
   "outputs": [
    {
     "data": {
      "image/png": "[encoded data removed]"
     },
     "metadata": {},
     "output_type": "display_data"
    }
   ],
   "source": [
    "%%R\n",
    "ord = ordinate(ps, method = \"MDS\", distance = \"bray\")\n",
    "\n",
    "ord.plot = plot_ordination(ps, ord, justDF = TRUE)\n",
    "\n",
    "d = ord.plot\n",
    "\n",
    "d$Sample = rownames(d)\n",
    "\n",
    "p = ggplot(d, aes(x = Axis.1, y = Axis.2, label = Sample))\n",
    "\n",
    "p = p + geom_point(size = 4)\n",
    "\n",
    "p = p + geom_text(hjust = 1, vjust = 1)\n",
    "\n",
    "p"
   ]
  },
  {
   "cell_type": "code",
   "execution_count": 54,
   "metadata": {
    "collapsed": false
   },
   "outputs": [
    {
     "data": {
      "image/png": "[encoded data removed]"
     },
     "metadata": {},
     "output_type": "display_data"
    }
   ],
   "source": [
    "%%R\n"
   ]
  }
 ],
 "metadata": {
  "kernelspec": {
   "display_name": "Python 2",
   "language": "python",
   "name": "python2"
  },
  "language_info": {
   "codemirror_mode": {
    "name": "ipython",
    "version": 2
   },
   "file_extension": ".py",
   "mimetype": "text/x-python",
   "name": "python",
   "nbconvert_exporter": "python",
   "pygments_lexer": "ipython2",
   "version": "2.7.10"
  }
 },
 "nbformat": 4,
 "nbformat_minor": 0
}
